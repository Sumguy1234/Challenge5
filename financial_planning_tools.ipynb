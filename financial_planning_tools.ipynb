{
 "cells": [
  {
   "cell_type": "markdown",
   "metadata": {},
   "source": [
    "# Financial Planning with APIs and Simulations\n",
    "\n",
    "In this Challenge, you’ll create two financial analysis tools by using a single Jupyter notebook:\n",
    "\n",
    "Part 1: A financial planner for emergencies. The members will be able to use this tool to visualize their current savings. The members can then determine if they have enough reserves for an emergency fund.\n",
    "\n",
    "Part 2: A financial planner for retirement. This tool will forecast the performance of their retirement portfolio in 30 years. To do this, the tool will make an Alpaca API call via the Alpaca SDK to get historical price data for use in Monte Carlo simulations.\n",
    "\n",
    "You’ll use the information from the Monte Carlo simulation to answer questions about the portfolio in your Jupyter notebook.\n",
    "\n"
   ]
  },
  {
   "cell_type": "code",
   "execution_count": 278,
   "metadata": {},
   "outputs": [],
   "source": [
    "# Import the required libraries and dependencies\n",
    "import os\n",
    "import requests\n",
    "import json\n",
    "import pandas as pd\n",
    "from dotenv import load_dotenv\n",
    "import alpaca_trade_api as tradeapi\n",
    "from MCForecastTools import MCSimulation\n",
    "\n",
    "%matplotlib inline"
   ]
  },
  {
   "cell_type": "code",
   "execution_count": 199,
   "metadata": {},
   "outputs": [
    {
     "data": {
      "text/plain": [
       "True"
      ]
     },
     "execution_count": 199,
     "metadata": {},
     "output_type": "execute_result"
    }
   ],
   "source": [
    "# Load the environment variables from the .env file\n",
    "#by calling the load_dotenv function\n",
    "load_dotenv(override=True)\n"
   ]
  },
  {
   "cell_type": "markdown",
   "metadata": {},
   "source": [
    "## Part 1: Create a Financial Planner for Emergencies"
   ]
  },
  {
   "cell_type": "markdown",
   "metadata": {},
   "source": [
    "### Evaluate the Cryptocurrency Wallet by Using the Requests Library\n",
    "\n",
    "In this section, you’ll determine the current value of a member’s cryptocurrency wallet. You’ll collect the current prices for the Bitcoin and Ethereum cryptocurrencies by using the Python Requests library. For the prototype, you’ll assume that the member holds the 1.2 Bitcoins (BTC) and 5.3 Ethereum coins (ETH). To do all this, complete the following steps:\n",
    "\n",
    "1. Create a variable named `monthly_income`, and set its value to `12000`.\n",
    "\n",
    "2. Use the Requests library to get the current price (in US dollars) of Bitcoin (BTC) and Ethereum (ETH) by using the API endpoints that the starter code supplies.\n",
    "\n",
    "3. Navigate the JSON response object to access the current price of each coin, and store each in a variable.\n",
    "\n",
    "    > **Hint** Note the specific identifier for each cryptocurrency in the API JSON response. The Bitcoin identifier is `1`, and the Ethereum identifier is `1027`.\n",
    "\n",
    "4. Calculate the value, in US dollars, of the current amount of each cryptocurrency and of the entire cryptocurrency wallet.\n",
    "\n"
   ]
  },
  {
   "cell_type": "code",
   "execution_count": 200,
   "metadata": {},
   "outputs": [],
   "source": [
    "# The current number of coins for each cryptocurrency asset held in the portfolio.\n",
    "btc_coins = 1.2\n",
    "eth_coins = 5.3"
   ]
  },
  {
   "cell_type": "markdown",
   "metadata": {},
   "source": [
    "#### Step 1: Create a variable named `monthly_income`, and set its value to `12000`."
   ]
  },
  {
   "cell_type": "code",
   "execution_count": 201,
   "metadata": {},
   "outputs": [],
   "source": [
    "# The monthly amount for the member's household income\n",
    "# YOUR CODE HERE\n",
    "monthly_income=12000"
   ]
  },
  {
   "cell_type": "markdown",
   "metadata": {},
   "source": [
    "#### Review the endpoint URLs for the API calls to Free Crypto API in order to get the current pricing information for both BTC and ETH."
   ]
  },
  {
   "cell_type": "code",
   "execution_count": 202,
   "metadata": {},
   "outputs": [],
   "source": [
    "# The Free Crypto API Call endpoint URLs for the held cryptocurrency assets\n",
    "btc_url = \"https://api.alternative.me/v2/ticker/Bitcoin/?convert=USD\"\n",
    "eth_url = \"https://api.alternative.me/v2/ticker/Ethereum/?convert=USD\""
   ]
  },
  {
   "cell_type": "markdown",
   "metadata": {},
   "source": [
    "#### Step 2. Use the Requests library to get the current price (in US dollars) of Bitcoin (BTC) and Ethereum (ETH) by using the API endpoints that the starter code supplied."
   ]
  },
  {
   "cell_type": "code",
   "execution_count": 203,
   "metadata": {},
   "outputs": [
    {
     "name": "stdout",
     "output_type": "stream",
     "text": [
      "{\n",
      "    \"data\": {\n",
      "        \"1\": {\n",
      "            \"circulating_supply\": 19027812,\n",
      "            \"id\": 1,\n",
      "            \"last_updated\": 1651434199,\n",
      "            \"max_supply\": 21000000,\n",
      "            \"name\": \"Bitcoin\",\n",
      "            \"quotes\": {\n",
      "                \"USD\": {\n",
      "                    \"market_cap\": 722544898537,\n",
      "                    \"percent_change_1h\": -0.696975485334061,\n",
      "                    \"percent_change_24h\": -1.10363130042017,\n",
      "                    \"percent_change_7d\": -3.93036253222422,\n",
      "                    \"percentage_change_1h\": -0.696975485334061,\n",
      "                    \"percentage_change_24h\": -1.10363130042017,\n",
      "                    \"percentage_change_7d\": -3.93036253222422,\n",
      "                    \"price\": 38007.0,\n",
      "                    \"volume_24h\": 24477096662\n",
      "                }\n",
      "            },\n",
      "            \"rank\": 1,\n",
      "            \"symbol\": \"BTC\",\n",
      "            \"total_supply\": 19027812,\n",
      "            \"website_slug\": \"bitcoin\"\n",
      "        }\n",
      "    },\n",
      "    \"metadata\": {\n",
      "        \"error\": null,\n",
      "        \"num_cryptocurrencies\": 3106,\n",
      "        \"timestamp\": 1651434199\n",
      "    }\n",
      "}\n"
     ]
    }
   ],
   "source": [
    "# Using the Python requests library, make an API call to access the current price of BTC\n",
    "btc_response = requests.get(btc_url).json()\n",
    "\n",
    "# Use the json.dumps function to review the response data from the API call\n",
    "# Use the indent and sort_keys parameters to make the response object readable\n",
    "# YOUR CODE HERE\n",
    "print(json.dumps(btc_response, indent=4, sort_keys=True))"
   ]
  },
  {
   "cell_type": "code",
   "execution_count": 204,
   "metadata": {},
   "outputs": [
    {
     "name": "stdout",
     "output_type": "stream",
     "text": [
      "{\n",
      "    \"data\": {\n",
      "        \"1027\": {\n",
      "            \"circulating_supply\": 120606482,\n",
      "            \"id\": 1027,\n",
      "            \"last_updated\": 1651434231,\n",
      "            \"max_supply\": 0,\n",
      "            \"name\": \"Ethereum\",\n",
      "            \"quotes\": {\n",
      "                \"USD\": {\n",
      "                    \"market_cap\": 334591732969,\n",
      "                    \"percent_change_1h\": -0.6814913889701,\n",
      "                    \"percent_change_24h\": -0.792417246327355,\n",
      "                    \"percent_change_7d\": -5.5860073400144,\n",
      "                    \"percentage_change_1h\": -0.6814913889701,\n",
      "                    \"percentage_change_24h\": -0.792417246327355,\n",
      "                    \"percentage_change_7d\": -5.5860073400144,\n",
      "                    \"price\": 2776.42,\n",
      "                    \"volume_24h\": 14748568880\n",
      "                }\n",
      "            },\n",
      "            \"rank\": 2,\n",
      "            \"symbol\": \"ETH\",\n",
      "            \"total_supply\": 120606482,\n",
      "            \"website_slug\": \"ethereum\"\n",
      "        }\n",
      "    },\n",
      "    \"metadata\": {\n",
      "        \"error\": null,\n",
      "        \"num_cryptocurrencies\": 3106,\n",
      "        \"timestamp\": 1651434231\n",
      "    }\n",
      "}\n"
     ]
    }
   ],
   "source": [
    "# Using the Python requests library, make an API call to access the current price ETH\n",
    "eth_response = requests.get(eth_url).json()\n",
    "\n",
    "# Use the json.dumps function to review the response data from the API call\n",
    "# Use the indent and sort_keys parameters to make the response object readable\n",
    "# YOUR CODE HERE\n",
    "print(json.dumps(eth_response,indent=4,sort_keys=True))"
   ]
  },
  {
   "cell_type": "markdown",
   "metadata": {},
   "source": [
    "#### Step 3: Navigate the JSON response object to access the current price of each coin, and store each in a variable."
   ]
  },
  {
   "cell_type": "code",
   "execution_count": 205,
   "metadata": {},
   "outputs": [
    {
     "data": {
      "text/plain": [
       "38007.0"
      ]
     },
     "execution_count": 205,
     "metadata": {},
     "output_type": "execute_result"
    }
   ],
   "source": [
    "# Navigate the BTC response object to access the current price of BTC\n",
    "btc_price = btc_response['data']['1']['quotes']['USD']['price']\n",
    "\n",
    "# Print the current price of BTC\n",
    "# YOUR CODE HERE\n",
    "btc_price"
   ]
  },
  {
   "cell_type": "code",
   "execution_count": 206,
   "metadata": {},
   "outputs": [
    {
     "data": {
      "text/plain": [
       "2776.42"
      ]
     },
     "execution_count": 206,
     "metadata": {},
     "output_type": "execute_result"
    }
   ],
   "source": [
    "# Navigate the BTC response object to access the current price of ETH\n",
    "eth_price = eth_response['data']['1027']['quotes']['USD']['price']\n",
    "\n",
    "# Print the current price of ETH\n",
    "# YOUR CODE HERE\n",
    "eth_price\n"
   ]
  },
  {
   "cell_type": "markdown",
   "metadata": {},
   "source": [
    "### Step 4: Calculate the value, in US dollars, of the current amount of each cryptocurrency and of the entire cryptocurrency wallet."
   ]
  },
  {
   "cell_type": "code",
   "execution_count": 207,
   "metadata": {},
   "outputs": [
    {
     "data": {
      "text/plain": [
       "45608.4"
      ]
     },
     "execution_count": 207,
     "metadata": {},
     "output_type": "execute_result"
    }
   ],
   "source": [
    "# Compute the current value of the BTC holding \n",
    "btc_value = btc_price*btc_coins\n",
    "\n",
    "# Print current value of your holding in BTC\n",
    "# YOUR CODE HERE\n",
    "btc_value"
   ]
  },
  {
   "cell_type": "code",
   "execution_count": 208,
   "metadata": {},
   "outputs": [
    {
     "data": {
      "text/plain": [
       "14715.026"
      ]
     },
     "execution_count": 208,
     "metadata": {},
     "output_type": "execute_result"
    }
   ],
   "source": [
    "# Compute the current value of the ETH holding \n",
    "eth_value = eth_price*eth_coins\n",
    "\n",
    "# Print current value of your holding in ETH\n",
    "# YOUR CODE HERE\n",
    "eth_value"
   ]
  },
  {
   "cell_type": "code",
   "execution_count": 209,
   "metadata": {},
   "outputs": [
    {
     "data": {
      "text/plain": [
       "60323.426"
      ]
     },
     "execution_count": 209,
     "metadata": {},
     "output_type": "execute_result"
    }
   ],
   "source": [
    "# Compute the total value of the cryptocurrency wallet\n",
    "# Add the value of the BTC holding to the value of the ETH holding\n",
    "total_crypto_wallet = eth_value+btc_value\n",
    "\n",
    "# Print current cryptocurrency wallet balance\n",
    "# YOUR CODE HERE\n",
    "total_crypto_wallet"
   ]
  },
  {
   "cell_type": "markdown",
   "metadata": {},
   "source": [
    "### Evaluate the Stock and Bond Holdings by Using the Alpaca SDK\n",
    "\n",
    "In this section, you’ll determine the current value of a member’s stock and bond holdings. You’ll make an API call to Alpaca via the Alpaca SDK to get the current closing prices of the SPDR S&P 500 ETF Trust (ticker: SPY) and of the iShares Core US Aggregate Bond ETF (ticker: AGG). For the prototype, assume that the member holds 110 shares of SPY, which represents the stock portion of their portfolio, and 200 shares of AGG, which represents the bond portion. To do all this, complete the following steps:\n",
    "\n",
    "1. In the `Starter_Code` folder, create an environment file (`.env`) to store the values of your Alpaca API key and Alpaca secret key.\n",
    "\n",
    "2. Set the variables for the Alpaca API and secret keys. Using the Alpaca SDK, create the Alpaca `tradeapi.REST` object. In this object, include the parameters for the Alpaca API key, the secret key, and the version number.\n",
    "\n",
    "3. Set the following parameters for the Alpaca API call:\n",
    "\n",
    "    - `tickers`: Use the tickers for the member’s stock and bond holdings.\n",
    "\n",
    "    - `timeframe`: Use a time frame of one day.\n",
    "\n",
    "    - `start_date` and `end_date`: Use the same date for these parameters, and format them with the date of the previous weekday (or `2020-08-07`). This is because you want the one closing price for the most-recent trading day.\n",
    "\n",
    "4. Get the current closing prices for `SPY` and `AGG` by using the Alpaca `get_bars` function. Format the response as a Pandas DataFrame by including the `df` property at the end of the `get_bars` function.\n",
    "\n",
    "5. Navigating the Alpaca response DataFrame, select the `SPY` and `AGG` closing prices, and store them as variables.\n",
    "\n",
    "6. Calculate the value, in US dollars, of the current amount of shares in each of the stock and bond portions of the portfolio, and print the results.\n"
   ]
  },
  {
   "cell_type": "markdown",
   "metadata": {},
   "source": [
    "#### Review the total number of shares held in both (SPY) and (AGG)."
   ]
  },
  {
   "cell_type": "code",
   "execution_count": 210,
   "metadata": {},
   "outputs": [],
   "source": [
    "# Current amount of shares held in both the stock (SPY) and bond (AGG) portion of the portfolio.\n",
    "spy_shares = 110\n",
    "agg_shares = 200\n"
   ]
  },
  {
   "cell_type": "markdown",
   "metadata": {},
   "source": [
    "#### Step 1: In the `Starter_Code` folder, create an environment file (`.env`) to store the values of your Alpaca API key and Alpaca secret key."
   ]
  },
  {
   "cell_type": "markdown",
   "metadata": {},
   "source": [
    "#### Step 2: Set the variables for the Alpaca API and secret keys. Using the Alpaca SDK, create the Alpaca `tradeapi.REST` object. In this object, include the parameters for the Alpaca API key, the secret key, and the version number."
   ]
  },
  {
   "cell_type": "code",
   "execution_count": 214,
   "metadata": {},
   "outputs": [],
   "source": [
    "# Set the variables for the Alpaca API and secret keys\n",
    "alpaca_api_key = os.getenv(\"ALPACA_API_KEY\")\n",
    "alpaca_secret_key = os.getenv(\"ALPACA_SECRET_KEY\")\n",
    "\n",
    "# Create the Alpaca tradeapi.REST object\n",
    "# YOUR CODE HERE\n",
    "alpaca=tradeapi.REST(\n",
    "    alpaca_api_key,\n",
    "    alpaca_secret_key,\n",
    "    api_version='v2')\n",
    "\n"
   ]
  },
  {
   "cell_type": "markdown",
   "metadata": {},
   "source": [
    "#### Step 3: Set the following parameters for the Alpaca API call:\n",
    "\n",
    "- `tickers`: Use the tickers for the member’s stock and bond holdings.\n",
    "\n",
    "- `timeframe`: Use a time frame of one day.\n",
    "\n",
    "- `start_date` and `end_date`: Use the same date for these parameters, and format them with the date of the previous weekday (or `2020-08-07`). This is because you want the one closing price for the most-recent trading day.\n"
   ]
  },
  {
   "cell_type": "code",
   "execution_count": 226,
   "metadata": {},
   "outputs": [],
   "source": [
    "# Set the tickers for both the bond and stock portion of the portfolio\n",
    "# YOUR CODE HERE\n",
    "\n",
    "tickers=['SPY','AGG']\n",
    "\n",
    "# Set timeframe to 1Day\n",
    "# YOUR CODE HERE\n",
    "\n",
    "timeframe='1Day'\n",
    "\n",
    "# Format current date as ISO format\n",
    "# Set both the start and end date at the date of your prior weekday \n",
    "# This will give you the closing price of the previous trading day\n",
    "# Alternatively you can use a start and end date of 2020-08-07\n",
    "# YOUR CODE HERE\n",
    "# YOUR CODE HERE\n",
    "start_date=pd.Timestamp('2022-04-29', tz='America/New_York').isoformat()\n",
    "end_date=pd.Timestamp('2022-04-29', tz='America/New_York').isoformat()"
   ]
  },
  {
   "cell_type": "markdown",
   "metadata": {},
   "source": [
    "#### Step 4: Get the current closing prices for `SPY` and `AGG` by using the Alpaca `get_bars` function. Format the response as a Pandas DataFrame by including the `df` property at the end of the `get_bars` function."
   ]
  },
  {
   "cell_type": "code",
   "execution_count": 230,
   "metadata": {},
   "outputs": [
    {
     "data": {
      "text/html": [
       "<div>\n",
       "<style scoped>\n",
       "    .dataframe tbody tr th:only-of-type {\n",
       "        vertical-align: middle;\n",
       "    }\n",
       "\n",
       "    .dataframe tbody tr th {\n",
       "        vertical-align: top;\n",
       "    }\n",
       "\n",
       "    .dataframe thead tr th {\n",
       "        text-align: left;\n",
       "    }\n",
       "\n",
       "    .dataframe thead tr:last-of-type th {\n",
       "        text-align: right;\n",
       "    }\n",
       "</style>\n",
       "<table border=\"1\" class=\"dataframe\">\n",
       "  <thead>\n",
       "    <tr>\n",
       "      <th></th>\n",
       "      <th colspan=\"7\" halign=\"left\">AGG</th>\n",
       "      <th colspan=\"7\" halign=\"left\">SPY</th>\n",
       "    </tr>\n",
       "    <tr>\n",
       "      <th></th>\n",
       "      <th>open</th>\n",
       "      <th>high</th>\n",
       "      <th>low</th>\n",
       "      <th>close</th>\n",
       "      <th>volume</th>\n",
       "      <th>trade_count</th>\n",
       "      <th>vwap</th>\n",
       "      <th>open</th>\n",
       "      <th>high</th>\n",
       "      <th>low</th>\n",
       "      <th>close</th>\n",
       "      <th>volume</th>\n",
       "      <th>trade_count</th>\n",
       "      <th>vwap</th>\n",
       "    </tr>\n",
       "    <tr>\n",
       "      <th>timestamp</th>\n",
       "      <th></th>\n",
       "      <th></th>\n",
       "      <th></th>\n",
       "      <th></th>\n",
       "      <th></th>\n",
       "      <th></th>\n",
       "      <th></th>\n",
       "      <th></th>\n",
       "      <th></th>\n",
       "      <th></th>\n",
       "      <th></th>\n",
       "      <th></th>\n",
       "      <th></th>\n",
       "      <th></th>\n",
       "    </tr>\n",
       "  </thead>\n",
       "  <tbody>\n",
       "    <tr>\n",
       "      <th>2022-04-29 04:00:00+00:00</th>\n",
       "      <td>102.92</td>\n",
       "      <td>103.27</td>\n",
       "      <td>102.82</td>\n",
       "      <td>102.87</td>\n",
       "      <td>9922012</td>\n",
       "      <td>33928</td>\n",
       "      <td>103.00342</td>\n",
       "      <td>102.92</td>\n",
       "      <td>103.27</td>\n",
       "      <td>102.82</td>\n",
       "      <td>102.87</td>\n",
       "      <td>9922012</td>\n",
       "      <td>33928</td>\n",
       "      <td>103.00342</td>\n",
       "    </tr>\n",
       "  </tbody>\n",
       "</table>\n",
       "</div>"
      ],
      "text/plain": [
       "                              AGG                                   \\\n",
       "                             open    high     low   close   volume   \n",
       "timestamp                                                            \n",
       "2022-04-29 04:00:00+00:00  102.92  103.27  102.82  102.87  9922012   \n",
       "\n",
       "                                                     SPY                  \\\n",
       "                          trade_count       vwap    open    high     low   \n",
       "timestamp                                                                  \n",
       "2022-04-29 04:00:00+00:00       33928  103.00342  102.92  103.27  102.82   \n",
       "\n",
       "                                                                   \n",
       "                            close   volume trade_count       vwap  \n",
       "timestamp                                                          \n",
       "2022-04-29 04:00:00+00:00  102.87  9922012       33928  103.00342  "
      ]
     },
     "execution_count": 230,
     "metadata": {},
     "output_type": "execute_result"
    }
   ],
   "source": [
    "# Use the Alpaca get_bars function to get current closing prices the portfolio\n",
    "# Be sure to set the `df` property after the function to format the response object as a DataFrame\n",
    "# YOUR CODE HERE\n",
    "price_df=alpaca.get_bars(\n",
    "    tickers,\n",
    "    timeframe,\n",
    "    start=start_date,\n",
    "    end=end_date\n",
    ").df\n",
    "\n",
    "\n",
    "# Reorganize the DataFrame\n",
    "# Separate ticker data\n",
    "# YOUR CODE HERE\n",
    "\n",
    "\n",
    "\n",
    "AGG=price_df[price_df['symbol']=='AGG'].drop('symbol',axis=1)\n",
    "SPY=price_df[price_df['symbol']=='AGG'].drop('symbol',axis=1)\n",
    "\n",
    "# Concatenate the ticker DataFrames\n",
    "# YOUR CODE HERE\n",
    "\n",
    "price_df=pd.concat([AGG,SPY],axis=1,keys=['AGG','SPY'])\n",
    "\n",
    "# Review the first 5 rows of the Alpaca DataFrame\n",
    "# YOUR CODE HERE\n",
    "price_df.head()"
   ]
  },
  {
   "cell_type": "markdown",
   "metadata": {},
   "source": [
    "#### Step 5: Navigating the Alpaca response DataFrame, select the `SPY` and `AGG` closing prices, and store them as variables."
   ]
  },
  {
   "cell_type": "code",
   "execution_count": 234,
   "metadata": {},
   "outputs": [
    {
     "name": "stdout",
     "output_type": "stream",
     "text": [
      "102.87\n"
     ]
    }
   ],
   "source": [
    "# Access the closing price for AGG from the Alpaca DataFrame\n",
    "# Converting the value to a floating point number\n",
    "agg_close_price = float(price_df['AGG']['close'])\n",
    "\n",
    "# Print the AGG closing price\n",
    "# YOUR CODE HERE\n",
    "print(agg_close_price)"
   ]
  },
  {
   "cell_type": "code",
   "execution_count": 237,
   "metadata": {},
   "outputs": [
    {
     "name": "stdout",
     "output_type": "stream",
     "text": [
      "102.87\n"
     ]
    }
   ],
   "source": [
    "# Access the closing price for SPY from the Alpaca DataFrame\n",
    "# Converting the value to a floating point number\n",
    "spy_close_price = float(price_df['SPY']['close'])\n",
    "                        \n",
    "# Print the SPY closing price\n",
    "# YOUR CODE HERE\n",
    "print(spy_close_price)"
   ]
  },
  {
   "cell_type": "markdown",
   "metadata": {},
   "source": [
    "#### Step 6: Calculate the value, in US dollars, of the current amount of shares in each of the stock and bond portions of the portfolio, and print the results."
   ]
  },
  {
   "cell_type": "code",
   "execution_count": 239,
   "metadata": {},
   "outputs": [
    {
     "name": "stdout",
     "output_type": "stream",
     "text": [
      "20574.0\n"
     ]
    }
   ],
   "source": [
    "# Calculate the current value of the bond portion of the portfolio\n",
    "# For the prototype, assume that the member holds 110 shares of SPY, which represents the stock portion of their portfolio, and 200 shares of AGG, which represents the bond portion. \n",
    "agg_value = agg_close_price*200\n",
    "\n",
    "# Print the current value of the bond portfolio\n",
    "# YOUR CODE HERE\n",
    "print(agg_value)"
   ]
  },
  {
   "cell_type": "code",
   "execution_count": 240,
   "metadata": {},
   "outputs": [
    {
     "name": "stdout",
     "output_type": "stream",
     "text": [
      "11315.7\n"
     ]
    }
   ],
   "source": [
    "# Calculate the current value of the stock portion of the portfolio\n",
    "spy_value = spy_close_price*110\n",
    "\n",
    "# Print the current value of the stock portfolio\n",
    "# YOUR CODE HERE\n",
    "print(spy_value)"
   ]
  },
  {
   "cell_type": "code",
   "execution_count": 241,
   "metadata": {},
   "outputs": [
    {
     "name": "stdout",
     "output_type": "stream",
     "text": [
      "31889.7\n"
     ]
    }
   ],
   "source": [
    "# Calculate the total value of the stock and bond portion of the portfolio\n",
    "total_stocks_bonds = spy_value+agg_value\n",
    "\n",
    "# Print the current balance of the stock and bond portion of the portfolio\n",
    "# YOUR CODE HERE\n",
    "print(total_stocks_bonds)"
   ]
  },
  {
   "cell_type": "code",
   "execution_count": 242,
   "metadata": {},
   "outputs": [
    {
     "name": "stdout",
     "output_type": "stream",
     "text": [
      "92213.126\n"
     ]
    }
   ],
   "source": [
    "# Calculate the total value of the member's entire savings portfolio\n",
    "# Add the value of the cryptocurrency wallet to the value of the total stocks and bonds\n",
    "total_portfolio = total_crypto_wallet+total_stocks_bonds\n",
    "\n",
    "# Print total portfolio balance\n",
    "# YOUR CODE HERE\n",
    "print(total_portfolio)"
   ]
  },
  {
   "cell_type": "markdown",
   "metadata": {},
   "source": [
    "### Evaluate the Emergency Fund\n",
    "\n",
    "In this section, you’ll use the valuations for the cryptocurrency wallet and for the stock and bond portions of the portfolio to determine if the credit union member has enough savings to build an emergency fund into their financial plan. To do this, complete the following steps:\n",
    "\n",
    "1. Create a Python list named `savings_data` that has two elements. The first element contains the total value of the cryptocurrency wallet. The second element contains the total value of the stock and bond portions of the portfolio.\n",
    "\n",
    "2. Use the `savings_data` list to create a Pandas DataFrame named `savings_df`, and then display this DataFrame. The function to create the DataFrame should take the following three parameters:\n",
    "\n",
    "    - `savings_data`: Use the list that you just created.\n",
    "\n",
    "    - `columns`: Set this parameter equal to a Python list with a single value called `amount`.\n",
    "\n",
    "    - `index`: Set this parameter equal to a Python list with the values of `crypto` and `stock/bond`.\n",
    "\n",
    "3. Use the `savings_df` DataFrame to plot a pie chart that visualizes the composition of the member’s portfolio. The y-axis of the pie chart uses `amount`. Be sure to add a title.\n",
    "\n",
    "4. Using Python, determine if the current portfolio has enough to create an emergency fund as part of the member’s financial plan. Ideally, an emergency fund should equal to three times the member’s monthly income. To do this, implement the following steps:\n",
    "\n",
    "    1. Create a variable named `emergency_fund_value`, and set it equal to three times the value of the member’s `monthly_income` of $12000. (You set this earlier in Part 1).\n",
    "\n",
    "    2. Create a series of three if statements to determine if the member’s total portfolio is large enough to fund the emergency portfolio:\n",
    "\n",
    "        1. If the total portfolio value is greater than the emergency fund value, display a message congratulating the member for having enough money in this fund.\n",
    "\n",
    "        2. Else if the total portfolio value is equal to the emergency fund value, display a message congratulating the member on reaching this important financial goal.\n",
    "\n",
    "        3. Else the total portfolio is less than the emergency fund value, so display a message showing how many dollars away the member is from reaching the goal. (Subtract the total portfolio value from the emergency fund value.)\n"
   ]
  },
  {
   "cell_type": "markdown",
   "metadata": {},
   "source": [
    "#### Step 1: Create a Python list named `savings_data` that has two elements. The first element contains the total value of the cryptocurrency wallet. The second element contains the total value of the stock and bond portions of the portfolio."
   ]
  },
  {
   "cell_type": "code",
   "execution_count": 243,
   "metadata": {},
   "outputs": [
    {
     "data": {
      "text/plain": [
       "[31889.7, 60323.426]"
      ]
     },
     "execution_count": 243,
     "metadata": {},
     "output_type": "execute_result"
    }
   ],
   "source": [
    "# Consolidate financial assets data into a Python list\n",
    "# YOUR CODE HERE\n",
    "savings_data=[total_stocks_bonds,total_crypto_wallet]\n",
    "\n",
    "# Review the Python list savings_data\n",
    "# YOUR CODE HERE\n",
    "savings_data"
   ]
  },
  {
   "cell_type": "markdown",
   "metadata": {},
   "source": [
    "#### Step 2: Use the `savings_data` list to create a Pandas DataFrame named `savings_df`, and then display this DataFrame. The function to create the DataFrame should take the following three parameters:\n",
    "\n",
    "- `savings_data`: Use the list that you just created.\n",
    "\n",
    "- `columns`: Set this parameter equal to a Python list with a single value called `amount`.\n",
    "\n",
    "- `index`: Set this parameter equal to a Python list with the values of `crypto` and `stock/bond`.\n"
   ]
  },
  {
   "cell_type": "code",
   "execution_count": 245,
   "metadata": {},
   "outputs": [
    {
     "data": {
      "text/html": [
       "<div>\n",
       "<style scoped>\n",
       "    .dataframe tbody tr th:only-of-type {\n",
       "        vertical-align: middle;\n",
       "    }\n",
       "\n",
       "    .dataframe tbody tr th {\n",
       "        vertical-align: top;\n",
       "    }\n",
       "\n",
       "    .dataframe thead th {\n",
       "        text-align: right;\n",
       "    }\n",
       "</style>\n",
       "<table border=\"1\" class=\"dataframe\">\n",
       "  <thead>\n",
       "    <tr style=\"text-align: right;\">\n",
       "      <th></th>\n",
       "      <th>amount</th>\n",
       "    </tr>\n",
       "  </thead>\n",
       "  <tbody>\n",
       "    <tr>\n",
       "      <th>crypto</th>\n",
       "      <td>31889.700</td>\n",
       "    </tr>\n",
       "    <tr>\n",
       "      <th>stock/bond</th>\n",
       "      <td>60323.426</td>\n",
       "    </tr>\n",
       "  </tbody>\n",
       "</table>\n",
       "</div>"
      ],
      "text/plain": [
       "               amount\n",
       "crypto      31889.700\n",
       "stock/bond  60323.426"
      ]
     },
     "execution_count": 245,
     "metadata": {},
     "output_type": "execute_result"
    }
   ],
   "source": [
    "# Create a Pandas DataFrame called savings_df \n",
    "# YOUR CODE HERE\n",
    "savings_df=pd.DataFrame(savings_data,columns=['amount'],index=['crypto','stock/bond'])\n",
    "\n",
    "# Display the savings_df DataFrame\n",
    "# YOUR CODE HERE\n",
    "savings_df"
   ]
  },
  {
   "cell_type": "markdown",
   "metadata": {},
   "source": [
    "#### Step 3: Use the `savings_df` DataFrame to plot a pie chart that visualizes the composition of the member’s portfolio. The y-axis of the pie chart uses `amount`. Be sure to add a title."
   ]
  },
  {
   "cell_type": "code",
   "execution_count": 254,
   "metadata": {},
   "outputs": [
    {
     "data": {
      "text/plain": [
       "array([<AxesSubplot:>], dtype=object)"
      ]
     },
     "execution_count": 254,
     "metadata": {},
     "output_type": "execute_result"
    },
    {
     "data": {
      "image/png": "[encoded data removed]",
      "text/plain": [
       "<Figure size 432x288 with 1 Axes>"
      ]
     },
     "metadata": {},
     "output_type": "display_data"
    }
   ],
   "source": [
    "# Plot the total value of the member's portfolio (crypto and stock/bond) in a pie chart\n",
    "# YOUR CODE HERE\n",
    "savings_df.plot(kind='pie', subplots=True, title='Portfolio Breakdown', legend=False, ylabel='')"
   ]
  },
  {
   "cell_type": "markdown",
   "metadata": {},
   "source": [
    "#### Step 4: Using Python, determine if the current portfolio has enough to create an emergency fund as part of the member’s financial plan. Ideally, an emergency fund should equal to three times the member’s monthly income. To do this, implement the following steps:\n",
    "\n",
    "Step 1. Create a variable named `emergency_fund_value`, and set it equal to three times the value of the member’s `monthly_income` of 12000. (You set this earlier in Part 1).\n",
    "\n",
    "Step 2. Create a series of three if statements to determine if the member’s total portfolio is large enough to fund the emergency portfolio:\n",
    "\n",
    "* If the total portfolio value is greater than the emergency fund value, display a message congratulating the member for having enough money in this fund.\n",
    "\n",
    "* Else if the total portfolio value is equal to the emergency fund value, display a message congratulating the member on reaching this important financial goal.\n",
    "\n",
    "* Else the total portfolio is less than the emergency fund value, so display a message showing how many dollars away the member is from reaching the goal. (Subtract the total portfolio value from the emergency fund value.)\n"
   ]
  },
  {
   "cell_type": "markdown",
   "metadata": {},
   "source": [
    "##### Step 4-1: Create a variable named `emergency_fund_value`, and set it equal to three times the value of the member’s `monthly_income` of 12000. (You set this earlier in Part 1)."
   ]
  },
  {
   "cell_type": "code",
   "execution_count": 255,
   "metadata": {},
   "outputs": [],
   "source": [
    "# Create a variable named emergency_fund_value\n",
    "# YOUR CODE HERE\n",
    "emergency_fund_value=3*monthly_income"
   ]
  },
  {
   "cell_type": "markdown",
   "metadata": {},
   "source": [
    "##### Step 4-2: Create a series of three if statements to determine if the member’s total portfolio is large enough to fund the emergency portfolio:\n",
    "\n",
    "* If the total portfolio value is greater than the emergency fund value, display a message congratulating the member for having enough money in this fund.\n",
    "\n",
    "* Else if the total portfolio value is equal to the emergency fund value, display a message congratulating the member on reaching this important financial goal.\n",
    "\n",
    "* Else the total portfolio is less than the emergency fund value, so display a message showing how many dollars away the member is from reaching the goal. (Subtract the total portfolio value from the emergency fund value.)"
   ]
  },
  {
   "cell_type": "code",
   "execution_count": 259,
   "metadata": {},
   "outputs": [
    {
     "name": "stdout",
     "output_type": "stream",
     "text": [
      "Congratulations you have enough money in the portfolio for your emergency fund!\n"
     ]
    }
   ],
   "source": [
    "# Evaluate the possibility of creating an emergency fund with 3 conditions:\n",
    "# YOUR CODE HERE\n",
    "# YOUR CODE HERE\n",
    "# YOUR CODE HERE\n",
    "if total_portfolio>emergency_fund_value:\n",
    "    print('Congratulations you have enough money in the portfolio for your emergency fund!')\n",
    "elif total_portfolio == emergency_fund_value:\n",
    "    print('Congratulations you have exactly the amount needed for your emergency fund!')\n",
    "else:\n",
    "    print(f'you are ${emergency_fund_value-total_portfolio} away from your emergency fund goal!')"
   ]
  },
  {
   "cell_type": "markdown",
   "metadata": {},
   "source": [
    "## Part 2: Create a Financial Planner for Retirement"
   ]
  },
  {
   "cell_type": "markdown",
   "metadata": {},
   "source": [
    "### Create the Monte Carlo Simulation\n",
    "\n",
    "In this section, you’ll use the MCForecastTools library to create a Monte Carlo simulation for the member’s savings portfolio. To do this, complete the following steps:\n",
    "\n",
    "1. Make an API call via the Alpaca SDK to get 3 years of historical closing prices for a traditional 60/40 portfolio split: 60% stocks (SPY) and 40% bonds (AGG).\n",
    "\n",
    "2. Run a Monte Carlo simulation of 500 samples and 30 years for the 60/40 portfolio, and then plot the results.The following image shows the overlay line plot resulting from a simulation with these characteristics. However, because a random number generator is used to run each live Monte Carlo simulation, your image will differ slightly from this exact image:\n",
    "\n",
    "![A screenshot depicts the resulting plot.](Images/5-4-monte-carlo-line-plot.png)\n",
    "\n",
    "3. Plot the probability distribution of the Monte Carlo simulation. Plot the probability distribution of the Monte Carlo simulation. The following image shows the histogram plot resulting from a simulation with these characteristics. However, because a random number generator is used to run each live Monte Carlo simulation, your image will differ slightly from this exact image:\n",
    "\n",
    "![A screenshot depicts the histogram plot.](Images/5-4-monte-carlo-histogram.png)\n",
    "\n",
    "4. Generate the summary statistics for the Monte Carlo simulation.\n",
    "\n"
   ]
  },
  {
   "cell_type": "markdown",
   "metadata": {},
   "source": [
    "#### Step 1: Make an API call via the Alpaca SDK to get 3 years of historical closing prices for a traditional 60/40 portfolio split: 60% stocks (SPY) and 40% bonds (AGG)."
   ]
  },
  {
   "cell_type": "code",
   "execution_count": 263,
   "metadata": {},
   "outputs": [],
   "source": [
    "# Set start and end dates of 3 years back from your current date\n",
    "# Alternatively, you can use an end date of 2020-08-07 and work 3 years back from that date \n",
    "# YOUR CODE HERE\n",
    "# YOUR CODE HERE\n",
    "start_date = '2019-04-30'\n",
    "end_date = '2022-04-30'\n",
    "\n",
    "# Set number of rows to 1000 to retrieve the maximum amount of rows\n",
    "# YOUR CODE HERE\n",
    "rows=1000"
   ]
  },
  {
   "cell_type": "code",
   "execution_count": 270,
   "metadata": {},
   "outputs": [
    {
     "data": {
      "text/html": [
       "<div>\n",
       "<style scoped>\n",
       "    .dataframe tbody tr th:only-of-type {\n",
       "        vertical-align: middle;\n",
       "    }\n",
       "\n",
       "    .dataframe tbody tr th {\n",
       "        vertical-align: top;\n",
       "    }\n",
       "\n",
       "    .dataframe thead tr th {\n",
       "        text-align: left;\n",
       "    }\n",
       "\n",
       "    .dataframe thead tr:last-of-type th {\n",
       "        text-align: right;\n",
       "    }\n",
       "</style>\n",
       "<table border=\"1\" class=\"dataframe\">\n",
       "  <thead>\n",
       "    <tr>\n",
       "      <th></th>\n",
       "      <th colspan=\"7\" halign=\"left\">AGG</th>\n",
       "      <th colspan=\"7\" halign=\"left\">SPY</th>\n",
       "    </tr>\n",
       "    <tr>\n",
       "      <th></th>\n",
       "      <th>open</th>\n",
       "      <th>high</th>\n",
       "      <th>low</th>\n",
       "      <th>close</th>\n",
       "      <th>volume</th>\n",
       "      <th>trade_count</th>\n",
       "      <th>vwap</th>\n",
       "      <th>open</th>\n",
       "      <th>high</th>\n",
       "      <th>low</th>\n",
       "      <th>close</th>\n",
       "      <th>volume</th>\n",
       "      <th>trade_count</th>\n",
       "      <th>vwap</th>\n",
       "    </tr>\n",
       "    <tr>\n",
       "      <th>timestamp</th>\n",
       "      <th></th>\n",
       "      <th></th>\n",
       "      <th></th>\n",
       "      <th></th>\n",
       "      <th></th>\n",
       "      <th></th>\n",
       "      <th></th>\n",
       "      <th></th>\n",
       "      <th></th>\n",
       "      <th></th>\n",
       "      <th></th>\n",
       "      <th></th>\n",
       "      <th></th>\n",
       "      <th></th>\n",
       "    </tr>\n",
       "  </thead>\n",
       "  <tbody>\n",
       "    <tr>\n",
       "      <th>2022-04-25 04:00:00+00:00</th>\n",
       "      <td>103.47</td>\n",
       "      <td>103.93</td>\n",
       "      <td>103.470</td>\n",
       "      <td>103.63</td>\n",
       "      <td>8768318</td>\n",
       "      <td>31373</td>\n",
       "      <td>103.691097</td>\n",
       "      <td>423.70</td>\n",
       "      <td>428.69</td>\n",
       "      <td>418.84</td>\n",
       "      <td>428.51</td>\n",
       "      <td>119103454</td>\n",
       "      <td>1139830</td>\n",
       "      <td>423.952513</td>\n",
       "    </tr>\n",
       "    <tr>\n",
       "      <th>2022-04-26 04:00:00+00:00</th>\n",
       "      <td>104.13</td>\n",
       "      <td>104.13</td>\n",
       "      <td>103.800</td>\n",
       "      <td>103.95</td>\n",
       "      <td>8533802</td>\n",
       "      <td>30915</td>\n",
       "      <td>103.960003</td>\n",
       "      <td>425.92</td>\n",
       "      <td>426.04</td>\n",
       "      <td>416.07</td>\n",
       "      <td>416.10</td>\n",
       "      <td>101074178</td>\n",
       "      <td>1001090</td>\n",
       "      <td>420.127020</td>\n",
       "    </tr>\n",
       "    <tr>\n",
       "      <th>2022-04-27 04:00:00+00:00</th>\n",
       "      <td>103.94</td>\n",
       "      <td>104.01</td>\n",
       "      <td>103.530</td>\n",
       "      <td>103.53</td>\n",
       "      <td>11102819</td>\n",
       "      <td>39392</td>\n",
       "      <td>103.679752</td>\n",
       "      <td>417.38</td>\n",
       "      <td>422.92</td>\n",
       "      <td>415.01</td>\n",
       "      <td>417.20</td>\n",
       "      <td>120771109</td>\n",
       "      <td>1005154</td>\n",
       "      <td>418.848698</td>\n",
       "    </tr>\n",
       "    <tr>\n",
       "      <th>2022-04-28 04:00:00+00:00</th>\n",
       "      <td>103.33</td>\n",
       "      <td>103.51</td>\n",
       "      <td>103.165</td>\n",
       "      <td>103.49</td>\n",
       "      <td>9901783</td>\n",
       "      <td>32976</td>\n",
       "      <td>103.361421</td>\n",
       "      <td>422.17</td>\n",
       "      <td>429.64</td>\n",
       "      <td>417.60</td>\n",
       "      <td>427.81</td>\n",
       "      <td>104665724</td>\n",
       "      <td>801719</td>\n",
       "      <td>424.039318</td>\n",
       "    </tr>\n",
       "    <tr>\n",
       "      <th>2022-04-29 04:00:00+00:00</th>\n",
       "      <td>102.92</td>\n",
       "      <td>103.27</td>\n",
       "      <td>102.820</td>\n",
       "      <td>102.87</td>\n",
       "      <td>9922012</td>\n",
       "      <td>33928</td>\n",
       "      <td>103.003420</td>\n",
       "      <td>423.56</td>\n",
       "      <td>425.87</td>\n",
       "      <td>411.21</td>\n",
       "      <td>412.00</td>\n",
       "      <td>145242451</td>\n",
       "      <td>1143618</td>\n",
       "      <td>416.879474</td>\n",
       "    </tr>\n",
       "  </tbody>\n",
       "</table>\n",
       "</div>"
      ],
      "text/plain": [
       "                              AGG                                     \\\n",
       "                             open    high      low   close    volume   \n",
       "timestamp                                                              \n",
       "2022-04-25 04:00:00+00:00  103.47  103.93  103.470  103.63   8768318   \n",
       "2022-04-26 04:00:00+00:00  104.13  104.13  103.800  103.95   8533802   \n",
       "2022-04-27 04:00:00+00:00  103.94  104.01  103.530  103.53  11102819   \n",
       "2022-04-28 04:00:00+00:00  103.33  103.51  103.165  103.49   9901783   \n",
       "2022-04-29 04:00:00+00:00  102.92  103.27  102.820  102.87   9922012   \n",
       "\n",
       "                                                      SPY                  \\\n",
       "                          trade_count        vwap    open    high     low   \n",
       "timestamp                                                                   \n",
       "2022-04-25 04:00:00+00:00       31373  103.691097  423.70  428.69  418.84   \n",
       "2022-04-26 04:00:00+00:00       30915  103.960003  425.92  426.04  416.07   \n",
       "2022-04-27 04:00:00+00:00       39392  103.679752  417.38  422.92  415.01   \n",
       "2022-04-28 04:00:00+00:00       32976  103.361421  422.17  429.64  417.60   \n",
       "2022-04-29 04:00:00+00:00       33928  103.003420  423.56  425.87  411.21   \n",
       "\n",
       "                                                                      \n",
       "                            close     volume trade_count        vwap  \n",
       "timestamp                                                             \n",
       "2022-04-25 04:00:00+00:00  428.51  119103454     1139830  423.952513  \n",
       "2022-04-26 04:00:00+00:00  416.10  101074178     1001090  420.127020  \n",
       "2022-04-27 04:00:00+00:00  417.20  120771109     1005154  418.848698  \n",
       "2022-04-28 04:00:00+00:00  427.81  104665724      801719  424.039318  \n",
       "2022-04-29 04:00:00+00:00  412.00  145242451     1143618  416.879474  "
      ]
     },
     "execution_count": 270,
     "metadata": {},
     "output_type": "execute_result"
    }
   ],
   "source": [
    "# Use the Alpaca get_bars function to make the API call to get the 3 years worth of pricing data\n",
    "# The tickers and timeframe parameters should have been set in Part 1 of this activity \n",
    "# The start and end dates should be updated with the information set above\n",
    "# Remember to add the df property to the end of the call so the response is returned as a DataFrame\n",
    "# YOUR CODE HERE\n",
    "three_yr_df = alpaca.get_bars(tickers,timeframe,start=start_date,end=end_date).df\n",
    "\n",
    "# Reorganize the DataFrame\n",
    "# Separate ticker data\n",
    "# YOUR CODE HERE\n",
    "spy_3_yr_df = three_yr_df[three_yr_df['symbol']=='SPY'].drop('symbol',axis=1)\n",
    "agg_3_yr_df = three_yr_df[three_yr_df['symbol']=='AGG'].drop('symbol',axis=1)\n",
    "\n",
    "# Concatenate the ticker DataFrames\n",
    "# YOUR CODE HERE\n",
    "three_yr_df=pd.concat([agg_3_yr_df,spy_3_yr_df],axis=1,keys=['AGG','SPY'])\n",
    "\n",
    "# Display both the first and last five rows of the DataFrame\n",
    "# YOUR CODE HERE\n",
    "# YOUR CODE HERE\n",
    "three_yr_df.head()\n",
    "three_yr_df.tail()"
   ]
  },
  {
   "cell_type": "markdown",
   "metadata": {},
   "source": [
    "#### Step 2: Run a Monte Carlo simulation of 500 samples and 30 years for the 60/40 portfolio, and then plot the results."
   ]
  },
  {
   "cell_type": "code",
   "execution_count": 273,
   "metadata": {},
   "outputs": [
    {
     "data": {
      "text/html": [
       "<div>\n",
       "<style scoped>\n",
       "    .dataframe tbody tr th:only-of-type {\n",
       "        vertical-align: middle;\n",
       "    }\n",
       "\n",
       "    .dataframe tbody tr th {\n",
       "        vertical-align: top;\n",
       "    }\n",
       "\n",
       "    .dataframe thead tr th {\n",
       "        text-align: left;\n",
       "    }\n",
       "\n",
       "    .dataframe thead tr:last-of-type th {\n",
       "        text-align: right;\n",
       "    }\n",
       "</style>\n",
       "<table border=\"1\" class=\"dataframe\">\n",
       "  <thead>\n",
       "    <tr>\n",
       "      <th></th>\n",
       "      <th colspan=\"8\" halign=\"left\">AGG</th>\n",
       "      <th colspan=\"8\" halign=\"left\">SPY</th>\n",
       "    </tr>\n",
       "    <tr>\n",
       "      <th></th>\n",
       "      <th>open</th>\n",
       "      <th>high</th>\n",
       "      <th>low</th>\n",
       "      <th>close</th>\n",
       "      <th>volume</th>\n",
       "      <th>trade_count</th>\n",
       "      <th>vwap</th>\n",
       "      <th>daily_return</th>\n",
       "      <th>open</th>\n",
       "      <th>high</th>\n",
       "      <th>low</th>\n",
       "      <th>close</th>\n",
       "      <th>volume</th>\n",
       "      <th>trade_count</th>\n",
       "      <th>vwap</th>\n",
       "      <th>daily_return</th>\n",
       "    </tr>\n",
       "    <tr>\n",
       "      <th>timestamp</th>\n",
       "      <th></th>\n",
       "      <th></th>\n",
       "      <th></th>\n",
       "      <th></th>\n",
       "      <th></th>\n",
       "      <th></th>\n",
       "      <th></th>\n",
       "      <th></th>\n",
       "      <th></th>\n",
       "      <th></th>\n",
       "      <th></th>\n",
       "      <th></th>\n",
       "      <th></th>\n",
       "      <th></th>\n",
       "      <th></th>\n",
       "      <th></th>\n",
       "    </tr>\n",
       "  </thead>\n",
       "  <tbody>\n",
       "    <tr>\n",
       "      <th>2019-04-30 04:00:00+00:00</th>\n",
       "      <td>108.56</td>\n",
       "      <td>108.68</td>\n",
       "      <td>108.5135</td>\n",
       "      <td>108.59</td>\n",
       "      <td>7491505</td>\n",
       "      <td>17892</td>\n",
       "      <td>108.620462</td>\n",
       "      <td>NaN</td>\n",
       "      <td>293.52</td>\n",
       "      <td>294.34</td>\n",
       "      <td>291.9200</td>\n",
       "      <td>294.02</td>\n",
       "      <td>81411933</td>\n",
       "      <td>254912</td>\n",
       "      <td>293.551590</td>\n",
       "      <td>NaN</td>\n",
       "    </tr>\n",
       "    <tr>\n",
       "      <th>2019-05-01 04:00:00+00:00</th>\n",
       "      <td>108.47</td>\n",
       "      <td>108.76</td>\n",
       "      <td>108.3200</td>\n",
       "      <td>108.40</td>\n",
       "      <td>6387911</td>\n",
       "      <td>23490</td>\n",
       "      <td>108.455634</td>\n",
       "      <td>-0.001750</td>\n",
       "      <td>294.76</td>\n",
       "      <td>294.95</td>\n",
       "      <td>291.8000</td>\n",
       "      <td>291.81</td>\n",
       "      <td>71921870</td>\n",
       "      <td>337374</td>\n",
       "      <td>293.457138</td>\n",
       "      <td>-0.007516</td>\n",
       "    </tr>\n",
       "    <tr>\n",
       "      <th>2019-05-02 04:00:00+00:00</th>\n",
       "      <td>108.30</td>\n",
       "      <td>108.33</td>\n",
       "      <td>108.1000</td>\n",
       "      <td>108.16</td>\n",
       "      <td>3379510</td>\n",
       "      <td>10083</td>\n",
       "      <td>108.172602</td>\n",
       "      <td>-0.002214</td>\n",
       "      <td>291.68</td>\n",
       "      <td>292.70</td>\n",
       "      <td>289.5200</td>\n",
       "      <td>291.18</td>\n",
       "      <td>65058183</td>\n",
       "      <td>342564</td>\n",
       "      <td>291.101680</td>\n",
       "      <td>-0.002159</td>\n",
       "    </tr>\n",
       "    <tr>\n",
       "      <th>2019-05-03 04:00:00+00:00</th>\n",
       "      <td>108.32</td>\n",
       "      <td>108.42</td>\n",
       "      <td>108.2750</td>\n",
       "      <td>108.34</td>\n",
       "      <td>2326299</td>\n",
       "      <td>11699</td>\n",
       "      <td>108.329456</td>\n",
       "      <td>0.001664</td>\n",
       "      <td>292.80</td>\n",
       "      <td>294.34</td>\n",
       "      <td>291.2998</td>\n",
       "      <td>294.03</td>\n",
       "      <td>56579556</td>\n",
       "      <td>249557</td>\n",
       "      <td>293.438891</td>\n",
       "      <td>0.009788</td>\n",
       "    </tr>\n",
       "    <tr>\n",
       "      <th>2019-05-06 04:00:00+00:00</th>\n",
       "      <td>108.56</td>\n",
       "      <td>108.57</td>\n",
       "      <td>108.4400</td>\n",
       "      <td>108.48</td>\n",
       "      <td>4609533</td>\n",
       "      <td>9832</td>\n",
       "      <td>108.483950</td>\n",
       "      <td>0.001292</td>\n",
       "      <td>289.24</td>\n",
       "      <td>293.31</td>\n",
       "      <td>288.9000</td>\n",
       "      <td>292.82</td>\n",
       "      <td>107250892</td>\n",
       "      <td>390959</td>\n",
       "      <td>291.952803</td>\n",
       "      <td>-0.004115</td>\n",
       "    </tr>\n",
       "  </tbody>\n",
       "</table>\n",
       "</div>"
      ],
      "text/plain": [
       "                              AGG                                     \\\n",
       "                             open    high       low   close   volume   \n",
       "timestamp                                                              \n",
       "2019-04-30 04:00:00+00:00  108.56  108.68  108.5135  108.59  7491505   \n",
       "2019-05-01 04:00:00+00:00  108.47  108.76  108.3200  108.40  6387911   \n",
       "2019-05-02 04:00:00+00:00  108.30  108.33  108.1000  108.16  3379510   \n",
       "2019-05-03 04:00:00+00:00  108.32  108.42  108.2750  108.34  2326299   \n",
       "2019-05-06 04:00:00+00:00  108.56  108.57  108.4400  108.48  4609533   \n",
       "\n",
       "                                                                   SPY  \\\n",
       "                          trade_count        vwap daily_return    open   \n",
       "timestamp                                                                \n",
       "2019-04-30 04:00:00+00:00       17892  108.620462          NaN  293.52   \n",
       "2019-05-01 04:00:00+00:00       23490  108.455634    -0.001750  294.76   \n",
       "2019-05-02 04:00:00+00:00       10083  108.172602    -0.002214  291.68   \n",
       "2019-05-03 04:00:00+00:00       11699  108.329456     0.001664  292.80   \n",
       "2019-05-06 04:00:00+00:00        9832  108.483950     0.001292  289.24   \n",
       "\n",
       "                                                                            \\\n",
       "                             high       low   close     volume trade_count   \n",
       "timestamp                                                                    \n",
       "2019-04-30 04:00:00+00:00  294.34  291.9200  294.02   81411933      254912   \n",
       "2019-05-01 04:00:00+00:00  294.95  291.8000  291.81   71921870      337374   \n",
       "2019-05-02 04:00:00+00:00  292.70  289.5200  291.18   65058183      342564   \n",
       "2019-05-03 04:00:00+00:00  294.34  291.2998  294.03   56579556      249557   \n",
       "2019-05-06 04:00:00+00:00  293.31  288.9000  292.82  107250892      390959   \n",
       "\n",
       "                                                    \n",
       "                                 vwap daily_return  \n",
       "timestamp                                           \n",
       "2019-04-30 04:00:00+00:00  293.551590          NaN  \n",
       "2019-05-01 04:00:00+00:00  293.457138    -0.007516  \n",
       "2019-05-02 04:00:00+00:00  291.101680    -0.002159  \n",
       "2019-05-03 04:00:00+00:00  293.438891     0.009788  \n",
       "2019-05-06 04:00:00+00:00  291.952803    -0.004115  "
      ]
     },
     "execution_count": 273,
     "metadata": {},
     "output_type": "execute_result"
    }
   ],
   "source": [
    "# Configure the Monte Carlo simulation to forecast 30 years cumulative returns\n",
    "# The weights should be split 40% to AGG and 60% to SPY.\n",
    "# Run 500 samples.\n",
    "# YOUR CODE HERE\n",
    "\n",
    "MC_30year = MCSimulation(three_yr_df,weights=[0.4,0.6],num_simulation=500,num_trading_days=252*30)\n",
    "\n",
    "# Review the simulation input data\n",
    "# YOUR CODE HERE\n",
    "\n",
    "MC_30year.portfolio_data.head()"
   ]
  },
  {
   "cell_type": "code",
   "execution_count": 274,
   "metadata": {},
   "outputs": [
    {
     "name": "stdout",
     "output_type": "stream",
     "text": [
      "Running Monte Carlo simulation number 0.\n",
      "Running Monte Carlo simulation number 10.\n",
      "Running Monte Carlo simulation number 20.\n",
      "Running Monte Carlo simulation number 30.\n",
      "Running Monte Carlo simulation number 40.\n",
      "Running Monte Carlo simulation number 50.\n",
      "Running Monte Carlo simulation number 60.\n",
      "Running Monte Carlo simulation number 70.\n",
      "Running Monte Carlo simulation number 80.\n",
      "Running Monte Carlo simulation number 90.\n",
      "Running Monte Carlo simulation number 100.\n"
     ]
    },
    {
     "name": "stderr",
     "output_type": "stream",
     "text": [
      "C:\\Users\\johnm\\Desktop\\BootCamp\\module_5_activities\\Challenge\\Starter_Code\\Starter_Code\\MCForecastTools.py:117: PerformanceWarning: DataFrame is highly fragmented.  This is usually the result of calling `frame.insert` many times, which has poor performance.  Consider joining all columns at once using pd.concat(axis=1) instead.  To get a de-fragmented frame, use `newframe = frame.copy()`\n",
      "  portfolio_cumulative_returns[n] = (1 + sim_df.fillna(0)).cumprod()\n"
     ]
    },
    {
     "name": "stdout",
     "output_type": "stream",
     "text": [
      "Running Monte Carlo simulation number 110.\n",
      "Running Monte Carlo simulation number 120.\n",
      "Running Monte Carlo simulation number 130.\n",
      "Running Monte Carlo simulation number 140.\n",
      "Running Monte Carlo simulation number 150.\n",
      "Running Monte Carlo simulation number 160.\n",
      "Running Monte Carlo simulation number 170.\n",
      "Running Monte Carlo simulation number 180.\n",
      "Running Monte Carlo simulation number 190.\n",
      "Running Monte Carlo simulation number 200.\n",
      "Running Monte Carlo simulation number 210.\n",
      "Running Monte Carlo simulation number 220.\n",
      "Running Monte Carlo simulation number 230.\n",
      "Running Monte Carlo simulation number 240.\n",
      "Running Monte Carlo simulation number 250.\n",
      "Running Monte Carlo simulation number 260.\n",
      "Running Monte Carlo simulation number 270.\n",
      "Running Monte Carlo simulation number 280.\n",
      "Running Monte Carlo simulation number 290.\n",
      "Running Monte Carlo simulation number 300.\n",
      "Running Monte Carlo simulation number 310.\n",
      "Running Monte Carlo simulation number 320.\n",
      "Running Monte Carlo simulation number 330.\n",
      "Running Monte Carlo simulation number 340.\n",
      "Running Monte Carlo simulation number 350.\n",
      "Running Monte Carlo simulation number 360.\n",
      "Running Monte Carlo simulation number 370.\n",
      "Running Monte Carlo simulation number 380.\n",
      "Running Monte Carlo simulation number 390.\n",
      "Running Monte Carlo simulation number 400.\n",
      "Running Monte Carlo simulation number 410.\n",
      "Running Monte Carlo simulation number 420.\n",
      "Running Monte Carlo simulation number 430.\n",
      "Running Monte Carlo simulation number 440.\n",
      "Running Monte Carlo simulation number 450.\n",
      "Running Monte Carlo simulation number 460.\n",
      "Running Monte Carlo simulation number 470.\n",
      "Running Monte Carlo simulation number 480.\n",
      "Running Monte Carlo simulation number 490.\n"
     ]
    },
    {
     "data": {
      "text/html": [
       "<div>\n",
       "<style scoped>\n",
       "    .dataframe tbody tr th:only-of-type {\n",
       "        vertical-align: middle;\n",
       "    }\n",
       "\n",
       "    .dataframe tbody tr th {\n",
       "        vertical-align: top;\n",
       "    }\n",
       "\n",
       "    .dataframe thead th {\n",
       "        text-align: right;\n",
       "    }\n",
       "</style>\n",
       "<table border=\"1\" class=\"dataframe\">\n",
       "  <thead>\n",
       "    <tr style=\"text-align: right;\">\n",
       "      <th></th>\n",
       "      <th>0</th>\n",
       "      <th>1</th>\n",
       "      <th>2</th>\n",
       "      <th>3</th>\n",
       "      <th>4</th>\n",
       "      <th>5</th>\n",
       "      <th>6</th>\n",
       "      <th>7</th>\n",
       "      <th>8</th>\n",
       "      <th>9</th>\n",
       "      <th>...</th>\n",
       "      <th>490</th>\n",
       "      <th>491</th>\n",
       "      <th>492</th>\n",
       "      <th>493</th>\n",
       "      <th>494</th>\n",
       "      <th>495</th>\n",
       "      <th>496</th>\n",
       "      <th>497</th>\n",
       "      <th>498</th>\n",
       "      <th>499</th>\n",
       "    </tr>\n",
       "  </thead>\n",
       "  <tbody>\n",
       "    <tr>\n",
       "      <th>0</th>\n",
       "      <td>1.000000</td>\n",
       "      <td>1.000000</td>\n",
       "      <td>1.000000</td>\n",
       "      <td>1.000000</td>\n",
       "      <td>1.000000</td>\n",
       "      <td>1.000000</td>\n",
       "      <td>1.000000</td>\n",
       "      <td>1.000000</td>\n",
       "      <td>1.000000</td>\n",
       "      <td>1.000000</td>\n",
       "      <td>...</td>\n",
       "      <td>1.000000</td>\n",
       "      <td>1.000000</td>\n",
       "      <td>1.000000</td>\n",
       "      <td>1.000000</td>\n",
       "      <td>1.000000</td>\n",
       "      <td>1.000000</td>\n",
       "      <td>1.000000</td>\n",
       "      <td>1.000000</td>\n",
       "      <td>1.000000</td>\n",
       "      <td>1.000000</td>\n",
       "    </tr>\n",
       "    <tr>\n",
       "      <th>1</th>\n",
       "      <td>0.995068</td>\n",
       "      <td>1.001621</td>\n",
       "      <td>1.004047</td>\n",
       "      <td>1.014206</td>\n",
       "      <td>0.995237</td>\n",
       "      <td>0.996714</td>\n",
       "      <td>0.990989</td>\n",
       "      <td>1.006816</td>\n",
       "      <td>0.997284</td>\n",
       "      <td>1.010357</td>\n",
       "      <td>...</td>\n",
       "      <td>0.990590</td>\n",
       "      <td>1.001881</td>\n",
       "      <td>1.000355</td>\n",
       "      <td>0.992360</td>\n",
       "      <td>0.998637</td>\n",
       "      <td>1.022545</td>\n",
       "      <td>0.995474</td>\n",
       "      <td>0.995095</td>\n",
       "      <td>1.013562</td>\n",
       "      <td>0.987984</td>\n",
       "    </tr>\n",
       "    <tr>\n",
       "      <th>2</th>\n",
       "      <td>0.992864</td>\n",
       "      <td>1.007361</td>\n",
       "      <td>1.004210</td>\n",
       "      <td>1.019656</td>\n",
       "      <td>0.995580</td>\n",
       "      <td>1.001259</td>\n",
       "      <td>0.995197</td>\n",
       "      <td>1.009638</td>\n",
       "      <td>1.012835</td>\n",
       "      <td>1.010871</td>\n",
       "      <td>...</td>\n",
       "      <td>0.993268</td>\n",
       "      <td>0.991162</td>\n",
       "      <td>1.013775</td>\n",
       "      <td>0.987367</td>\n",
       "      <td>0.984822</td>\n",
       "      <td>1.029094</td>\n",
       "      <td>0.994009</td>\n",
       "      <td>0.998293</td>\n",
       "      <td>1.003150</td>\n",
       "      <td>1.002918</td>\n",
       "    </tr>\n",
       "    <tr>\n",
       "      <th>3</th>\n",
       "      <td>0.994759</td>\n",
       "      <td>1.018825</td>\n",
       "      <td>0.995980</td>\n",
       "      <td>1.023253</td>\n",
       "      <td>1.002083</td>\n",
       "      <td>1.001757</td>\n",
       "      <td>1.004749</td>\n",
       "      <td>1.028798</td>\n",
       "      <td>1.029044</td>\n",
       "      <td>1.019503</td>\n",
       "      <td>...</td>\n",
       "      <td>0.997287</td>\n",
       "      <td>0.989498</td>\n",
       "      <td>1.018529</td>\n",
       "      <td>0.993993</td>\n",
       "      <td>0.985344</td>\n",
       "      <td>1.034418</td>\n",
       "      <td>0.983276</td>\n",
       "      <td>0.988726</td>\n",
       "      <td>1.000739</td>\n",
       "      <td>1.000150</td>\n",
       "    </tr>\n",
       "    <tr>\n",
       "      <th>4</th>\n",
       "      <td>0.994325</td>\n",
       "      <td>1.023287</td>\n",
       "      <td>0.990553</td>\n",
       "      <td>1.012083</td>\n",
       "      <td>0.999832</td>\n",
       "      <td>1.000591</td>\n",
       "      <td>1.011557</td>\n",
       "      <td>1.021194</td>\n",
       "      <td>1.025794</td>\n",
       "      <td>1.021667</td>\n",
       "      <td>...</td>\n",
       "      <td>0.995475</td>\n",
       "      <td>0.989201</td>\n",
       "      <td>1.026130</td>\n",
       "      <td>1.003031</td>\n",
       "      <td>0.978070</td>\n",
       "      <td>1.049849</td>\n",
       "      <td>0.991377</td>\n",
       "      <td>0.998658</td>\n",
       "      <td>1.007654</td>\n",
       "      <td>1.004085</td>\n",
       "    </tr>\n",
       "    <tr>\n",
       "      <th>...</th>\n",
       "      <td>...</td>\n",
       "      <td>...</td>\n",
       "      <td>...</td>\n",
       "      <td>...</td>\n",
       "      <td>...</td>\n",
       "      <td>...</td>\n",
       "      <td>...</td>\n",
       "      <td>...</td>\n",
       "      <td>...</td>\n",
       "      <td>...</td>\n",
       "      <td>...</td>\n",
       "      <td>...</td>\n",
       "      <td>...</td>\n",
       "      <td>...</td>\n",
       "      <td>...</td>\n",
       "      <td>...</td>\n",
       "      <td>...</td>\n",
       "      <td>...</td>\n",
       "      <td>...</td>\n",
       "      <td>...</td>\n",
       "      <td>...</td>\n",
       "    </tr>\n",
       "    <tr>\n",
       "      <th>7556</th>\n",
       "      <td>8.050016</td>\n",
       "      <td>6.536351</td>\n",
       "      <td>6.169703</td>\n",
       "      <td>14.811946</td>\n",
       "      <td>12.933047</td>\n",
       "      <td>7.203876</td>\n",
       "      <td>4.250951</td>\n",
       "      <td>40.988050</td>\n",
       "      <td>8.918521</td>\n",
       "      <td>20.219401</td>\n",
       "      <td>...</td>\n",
       "      <td>4.254391</td>\n",
       "      <td>3.427952</td>\n",
       "      <td>10.966436</td>\n",
       "      <td>4.087150</td>\n",
       "      <td>6.103760</td>\n",
       "      <td>5.357841</td>\n",
       "      <td>5.752868</td>\n",
       "      <td>13.208031</td>\n",
       "      <td>7.249878</td>\n",
       "      <td>24.540516</td>\n",
       "    </tr>\n",
       "    <tr>\n",
       "      <th>7557</th>\n",
       "      <td>8.046121</td>\n",
       "      <td>6.538968</td>\n",
       "      <td>6.103021</td>\n",
       "      <td>14.697488</td>\n",
       "      <td>12.957031</td>\n",
       "      <td>7.280249</td>\n",
       "      <td>4.235991</td>\n",
       "      <td>41.043890</td>\n",
       "      <td>8.793390</td>\n",
       "      <td>20.219863</td>\n",
       "      <td>...</td>\n",
       "      <td>4.260615</td>\n",
       "      <td>3.402297</td>\n",
       "      <td>10.948302</td>\n",
       "      <td>4.035128</td>\n",
       "      <td>6.111176</td>\n",
       "      <td>5.306832</td>\n",
       "      <td>5.799510</td>\n",
       "      <td>13.129499</td>\n",
       "      <td>7.315144</td>\n",
       "      <td>24.862371</td>\n",
       "    </tr>\n",
       "    <tr>\n",
       "      <th>7558</th>\n",
       "      <td>8.148666</td>\n",
       "      <td>6.521388</td>\n",
       "      <td>6.051022</td>\n",
       "      <td>14.827595</td>\n",
       "      <td>13.035357</td>\n",
       "      <td>7.275553</td>\n",
       "      <td>4.225554</td>\n",
       "      <td>40.644572</td>\n",
       "      <td>8.652645</td>\n",
       "      <td>20.275975</td>\n",
       "      <td>...</td>\n",
       "      <td>4.241628</td>\n",
       "      <td>3.455369</td>\n",
       "      <td>10.997918</td>\n",
       "      <td>4.045075</td>\n",
       "      <td>6.150204</td>\n",
       "      <td>5.301893</td>\n",
       "      <td>5.718832</td>\n",
       "      <td>13.390526</td>\n",
       "      <td>7.505998</td>\n",
       "      <td>25.032071</td>\n",
       "    </tr>\n",
       "    <tr>\n",
       "      <th>7559</th>\n",
       "      <td>8.212312</td>\n",
       "      <td>6.486531</td>\n",
       "      <td>6.015157</td>\n",
       "      <td>14.732243</td>\n",
       "      <td>12.776631</td>\n",
       "      <td>7.252918</td>\n",
       "      <td>4.245087</td>\n",
       "      <td>40.921017</td>\n",
       "      <td>8.587523</td>\n",
       "      <td>20.556219</td>\n",
       "      <td>...</td>\n",
       "      <td>4.222803</td>\n",
       "      <td>3.473984</td>\n",
       "      <td>11.181700</td>\n",
       "      <td>3.991923</td>\n",
       "      <td>6.058548</td>\n",
       "      <td>5.271327</td>\n",
       "      <td>5.792820</td>\n",
       "      <td>13.533776</td>\n",
       "      <td>7.392203</td>\n",
       "      <td>24.957099</td>\n",
       "    </tr>\n",
       "    <tr>\n",
       "      <th>7560</th>\n",
       "      <td>8.187418</td>\n",
       "      <td>6.506361</td>\n",
       "      <td>6.085488</td>\n",
       "      <td>14.715057</td>\n",
       "      <td>12.884791</td>\n",
       "      <td>7.296123</td>\n",
       "      <td>4.236293</td>\n",
       "      <td>41.185083</td>\n",
       "      <td>8.637356</td>\n",
       "      <td>20.591677</td>\n",
       "      <td>...</td>\n",
       "      <td>4.180887</td>\n",
       "      <td>3.515814</td>\n",
       "      <td>11.176499</td>\n",
       "      <td>3.936383</td>\n",
       "      <td>6.082294</td>\n",
       "      <td>5.351380</td>\n",
       "      <td>5.756874</td>\n",
       "      <td>13.729431</td>\n",
       "      <td>7.352193</td>\n",
       "      <td>24.738441</td>\n",
       "    </tr>\n",
       "  </tbody>\n",
       "</table>\n",
       "<p>7561 rows × 500 columns</p>\n",
       "</div>"
      ],
      "text/plain": [
       "           0         1         2          3          4         5         6    \\\n",
       "0     1.000000  1.000000  1.000000   1.000000   1.000000  1.000000  1.000000   \n",
       "1     0.995068  1.001621  1.004047   1.014206   0.995237  0.996714  0.990989   \n",
       "2     0.992864  1.007361  1.004210   1.019656   0.995580  1.001259  0.995197   \n",
       "3     0.994759  1.018825  0.995980   1.023253   1.002083  1.001757  1.004749   \n",
       "4     0.994325  1.023287  0.990553   1.012083   0.999832  1.000591  1.011557   \n",
       "...        ...       ...       ...        ...        ...       ...       ...   \n",
       "7556  8.050016  6.536351  6.169703  14.811946  12.933047  7.203876  4.250951   \n",
       "7557  8.046121  6.538968  6.103021  14.697488  12.957031  7.280249  4.235991   \n",
       "7558  8.148666  6.521388  6.051022  14.827595  13.035357  7.275553  4.225554   \n",
       "7559  8.212312  6.486531  6.015157  14.732243  12.776631  7.252918  4.245087   \n",
       "7560  8.187418  6.506361  6.085488  14.715057  12.884791  7.296123  4.236293   \n",
       "\n",
       "            7         8          9    ...       490       491        492  \\\n",
       "0      1.000000  1.000000   1.000000  ...  1.000000  1.000000   1.000000   \n",
       "1      1.006816  0.997284   1.010357  ...  0.990590  1.001881   1.000355   \n",
       "2      1.009638  1.012835   1.010871  ...  0.993268  0.991162   1.013775   \n",
       "3      1.028798  1.029044   1.019503  ...  0.997287  0.989498   1.018529   \n",
       "4      1.021194  1.025794   1.021667  ...  0.995475  0.989201   1.026130   \n",
       "...         ...       ...        ...  ...       ...       ...        ...   \n",
       "7556  40.988050  8.918521  20.219401  ...  4.254391  3.427952  10.966436   \n",
       "7557  41.043890  8.793390  20.219863  ...  4.260615  3.402297  10.948302   \n",
       "7558  40.644572  8.652645  20.275975  ...  4.241628  3.455369  10.997918   \n",
       "7559  40.921017  8.587523  20.556219  ...  4.222803  3.473984  11.181700   \n",
       "7560  41.185083  8.637356  20.591677  ...  4.180887  3.515814  11.176499   \n",
       "\n",
       "           493       494       495       496        497       498        499  \n",
       "0     1.000000  1.000000  1.000000  1.000000   1.000000  1.000000   1.000000  \n",
       "1     0.992360  0.998637  1.022545  0.995474   0.995095  1.013562   0.987984  \n",
       "2     0.987367  0.984822  1.029094  0.994009   0.998293  1.003150   1.002918  \n",
       "3     0.993993  0.985344  1.034418  0.983276   0.988726  1.000739   1.000150  \n",
       "4     1.003031  0.978070  1.049849  0.991377   0.998658  1.007654   1.004085  \n",
       "...        ...       ...       ...       ...        ...       ...        ...  \n",
       "7556  4.087150  6.103760  5.357841  5.752868  13.208031  7.249878  24.540516  \n",
       "7557  4.035128  6.111176  5.306832  5.799510  13.129499  7.315144  24.862371  \n",
       "7558  4.045075  6.150204  5.301893  5.718832  13.390526  7.505998  25.032071  \n",
       "7559  3.991923  6.058548  5.271327  5.792820  13.533776  7.392203  24.957099  \n",
       "7560  3.936383  6.082294  5.351380  5.756874  13.729431  7.352193  24.738441  \n",
       "\n",
       "[7561 rows x 500 columns]"
      ]
     },
     "execution_count": 274,
     "metadata": {},
     "output_type": "execute_result"
    }
   ],
   "source": [
    "# Run the Monte Carlo simulation to forecast 30 years cumulative returns\n",
    "# YOUR CODE HERE\n",
    "\n",
    "MC_30year.calc_cumulative_return()"
   ]
  },
  {
   "cell_type": "code",
   "execution_count": 280,
   "metadata": {},
   "outputs": [
    {
     "data": {
      "image/png": "[encoded data removed]",
      "text/plain": [
       "<Figure size 432x288 with 1 Axes>"
      ]
     },
     "metadata": {
      "needs_background": "light"
     },
     "output_type": "display_data"
    }
   ],
   "source": [
    "# Visualize the 30-year Monte Carlo simulation by creating an\n",
    "# overlay line plot\n",
    "# YOUR CODE HERE\n",
    "\n",
    "MC_sim_line_plot = MC_30year.plot_simulation()"
   ]
  },
  {
   "cell_type": "markdown",
   "metadata": {},
   "source": [
    "#### Step 3: Plot the probability distribution of the Monte Carlo simulation."
   ]
  },
  {
   "cell_type": "code",
   "execution_count": 284,
   "metadata": {},
   "outputs": [
    {
     "data": {
      "image/png": "[encoded data removed]",
      "text/plain": [
       "<Figure size 432x288 with 1 Axes>"
      ]
     },
     "metadata": {
      "needs_background": "light"
     },
     "output_type": "display_data"
    }
   ],
   "source": [
    "# Visualize the probability distribution of the 30-year Monte Carlo simulation \n",
    "# by plotting a histogram\n",
    "# YOUR CODE HERE\n",
    "MC_sim_dist_plot=MC_30year.plot_distribution()"
   ]
  },
  {
   "cell_type": "markdown",
   "metadata": {},
   "source": [
    "#### Step 4: Generate the summary statistics for the Monte Carlo simulation."
   ]
  },
  {
   "cell_type": "code",
   "execution_count": 285,
   "metadata": {},
   "outputs": [
    {
     "name": "stdout",
     "output_type": "stream",
     "text": [
      "count           500.000000\n",
      "mean              9.583660\n",
      "std               7.623245\n",
      "min               0.833119\n",
      "25%               4.405242\n",
      "50%               7.081162\n",
      "75%              12.625529\n",
      "max              52.316925\n",
      "95% CI Lower      1.454050\n",
      "95% CI Upper     29.301509\n",
      "Name: 7560, dtype: float64\n"
     ]
    }
   ],
   "source": [
    "# Generate summary statistics from the 30-year Monte Carlo simulation results\n",
    "# Save the results as a variable\n",
    "# YOUR CODE HERE\n",
    "MC_summary_statistics=MC_30year.summarize_cumulative_return()\n",
    "\n",
    "# Review the 30-year Monte Carlo summary statistics\n",
    "# YOUR CODE HERE\n",
    "print(MC_summary_statistics)"
   ]
  },
  {
   "cell_type": "markdown",
   "metadata": {},
   "source": [
    "### Analyze the Retirement Portfolio Forecasts\n",
    "\n",
    "Using the current value of only the stock and bond portion of the member's portfolio and the summary statistics that you generated from the Monte Carlo simulation, answer the following question in your Jupyter notebook:\n",
    "\n",
    "-  What are the lower and upper bounds for the expected value of the portfolio with a 95% confidence interval?\n"
   ]
  },
  {
   "cell_type": "code",
   "execution_count": 286,
   "metadata": {},
   "outputs": [
    {
     "data": {
      "text/plain": [
       "31889.7"
      ]
     },
     "execution_count": 286,
     "metadata": {},
     "output_type": "execute_result"
    }
   ],
   "source": [
    "# Print the current balance of the stock and bond portion of the members portfolio\n",
    "# YOUR CODE HERE\n",
    "total_stocks_bonds"
   ]
  },
  {
   "cell_type": "code",
   "execution_count": 293,
   "metadata": {},
   "outputs": [
    {
     "name": "stdout",
     "output_type": "stream",
     "text": [
      "The lower confidence interval portfolio outcome is $ 46369.22\n",
      "The upper confidence interval portfolio outcome is $ 934416.33\n"
     ]
    }
   ],
   "source": [
    "# Use the lower and upper `95%` confidence intervals to calculate the range of the possible outcomes for the current stock/bond portfolio\n",
    "ci_lower_thirty_cumulative_return = MC_summary_statistics[8]*total_stocks_bonds\n",
    "ci_upper_thirty_cumulative_return = MC_summary_statistics[9]*total_stocks_bonds\n",
    "\n",
    "# Print the result of your calculations\n",
    "# YOUR CODE HERE\n",
    "print(f'The lower confidence interval portfolio outcome is ${ci_lower_thirty_cumulative_return: .2f}')\n",
    "print(f'The upper confidence interval portfolio outcome is ${ci_upper_thirty_cumulative_return: .2f}')"
   ]
  },
  {
   "cell_type": "markdown",
   "metadata": {},
   "source": [
    "### Forecast Cumulative Returns in 10 Years\n",
    "\n",
    "The CTO of the credit union is impressed with your work on these planning tools but wonders if 30 years is a long time to wait until retirement. So, your next task is to adjust the retirement portfolio and run a new Monte Carlo simulation to find out if the changes will allow members to retire earlier.\n",
    "\n",
    "For this new Monte Carlo simulation, do the following: \n",
    "\n",
    "- Forecast the cumulative returns for 10 years from now. Because of the shortened investment horizon (30 years to 10 years), the portfolio needs to invest more heavily in the riskier asset&mdash;that is, stock&mdash;to help accumulate wealth for retirement. \n",
    "\n",
    "- Adjust the weights of the retirement portfolio so that the composition for the Monte Carlo simulation consists of 20% bonds and 80% stocks. \n",
    "\n",
    "- Run the simulation over 500 samples, and use the same data that the API call to Alpaca generated.\n",
    "\n",
    "- Based on the new Monte Carlo simulation, answer the following questions in your Jupyter notebook:\n",
    "\n",
    "    - Using the current value of only the stock and bond portion of the member's portfolio and the summary statistics that you generated from the new Monte Carlo simulation, what are the lower and upper bounds for the expected value of the portfolio (with the new weights) with a 95% confidence interval?\n",
    "\n",
    "    - Will weighting the portfolio more heavily toward stocks allow the credit union members to retire after only 10 years?\n"
   ]
  },
  {
   "cell_type": "code",
   "execution_count": 294,
   "metadata": {},
   "outputs": [
    {
     "data": {
      "text/html": [
       "<div>\n",
       "<style scoped>\n",
       "    .dataframe tbody tr th:only-of-type {\n",
       "        vertical-align: middle;\n",
       "    }\n",
       "\n",
       "    .dataframe tbody tr th {\n",
       "        vertical-align: top;\n",
       "    }\n",
       "\n",
       "    .dataframe thead tr th {\n",
       "        text-align: left;\n",
       "    }\n",
       "\n",
       "    .dataframe thead tr:last-of-type th {\n",
       "        text-align: right;\n",
       "    }\n",
       "</style>\n",
       "<table border=\"1\" class=\"dataframe\">\n",
       "  <thead>\n",
       "    <tr>\n",
       "      <th></th>\n",
       "      <th colspan=\"8\" halign=\"left\">AGG</th>\n",
       "      <th colspan=\"8\" halign=\"left\">SPY</th>\n",
       "    </tr>\n",
       "    <tr>\n",
       "      <th></th>\n",
       "      <th>open</th>\n",
       "      <th>high</th>\n",
       "      <th>low</th>\n",
       "      <th>close</th>\n",
       "      <th>volume</th>\n",
       "      <th>trade_count</th>\n",
       "      <th>vwap</th>\n",
       "      <th>daily_return</th>\n",
       "      <th>open</th>\n",
       "      <th>high</th>\n",
       "      <th>low</th>\n",
       "      <th>close</th>\n",
       "      <th>volume</th>\n",
       "      <th>trade_count</th>\n",
       "      <th>vwap</th>\n",
       "      <th>daily_return</th>\n",
       "    </tr>\n",
       "    <tr>\n",
       "      <th>timestamp</th>\n",
       "      <th></th>\n",
       "      <th></th>\n",
       "      <th></th>\n",
       "      <th></th>\n",
       "      <th></th>\n",
       "      <th></th>\n",
       "      <th></th>\n",
       "      <th></th>\n",
       "      <th></th>\n",
       "      <th></th>\n",
       "      <th></th>\n",
       "      <th></th>\n",
       "      <th></th>\n",
       "      <th></th>\n",
       "      <th></th>\n",
       "      <th></th>\n",
       "    </tr>\n",
       "  </thead>\n",
       "  <tbody>\n",
       "    <tr>\n",
       "      <th>2019-04-30 04:00:00+00:00</th>\n",
       "      <td>108.56</td>\n",
       "      <td>108.68</td>\n",
       "      <td>108.5135</td>\n",
       "      <td>108.59</td>\n",
       "      <td>7491505</td>\n",
       "      <td>17892</td>\n",
       "      <td>108.620462</td>\n",
       "      <td>NaN</td>\n",
       "      <td>293.52</td>\n",
       "      <td>294.34</td>\n",
       "      <td>291.9200</td>\n",
       "      <td>294.02</td>\n",
       "      <td>81411933</td>\n",
       "      <td>254912</td>\n",
       "      <td>293.551590</td>\n",
       "      <td>NaN</td>\n",
       "    </tr>\n",
       "    <tr>\n",
       "      <th>2019-05-01 04:00:00+00:00</th>\n",
       "      <td>108.47</td>\n",
       "      <td>108.76</td>\n",
       "      <td>108.3200</td>\n",
       "      <td>108.40</td>\n",
       "      <td>6387911</td>\n",
       "      <td>23490</td>\n",
       "      <td>108.455634</td>\n",
       "      <td>-0.001750</td>\n",
       "      <td>294.76</td>\n",
       "      <td>294.95</td>\n",
       "      <td>291.8000</td>\n",
       "      <td>291.81</td>\n",
       "      <td>71921870</td>\n",
       "      <td>337374</td>\n",
       "      <td>293.457138</td>\n",
       "      <td>-0.007516</td>\n",
       "    </tr>\n",
       "    <tr>\n",
       "      <th>2019-05-02 04:00:00+00:00</th>\n",
       "      <td>108.30</td>\n",
       "      <td>108.33</td>\n",
       "      <td>108.1000</td>\n",
       "      <td>108.16</td>\n",
       "      <td>3379510</td>\n",
       "      <td>10083</td>\n",
       "      <td>108.172602</td>\n",
       "      <td>-0.002214</td>\n",
       "      <td>291.68</td>\n",
       "      <td>292.70</td>\n",
       "      <td>289.5200</td>\n",
       "      <td>291.18</td>\n",
       "      <td>65058183</td>\n",
       "      <td>342564</td>\n",
       "      <td>291.101680</td>\n",
       "      <td>-0.002159</td>\n",
       "    </tr>\n",
       "    <tr>\n",
       "      <th>2019-05-03 04:00:00+00:00</th>\n",
       "      <td>108.32</td>\n",
       "      <td>108.42</td>\n",
       "      <td>108.2750</td>\n",
       "      <td>108.34</td>\n",
       "      <td>2326299</td>\n",
       "      <td>11699</td>\n",
       "      <td>108.329456</td>\n",
       "      <td>0.001664</td>\n",
       "      <td>292.80</td>\n",
       "      <td>294.34</td>\n",
       "      <td>291.2998</td>\n",
       "      <td>294.03</td>\n",
       "      <td>56579556</td>\n",
       "      <td>249557</td>\n",
       "      <td>293.438891</td>\n",
       "      <td>0.009788</td>\n",
       "    </tr>\n",
       "    <tr>\n",
       "      <th>2019-05-06 04:00:00+00:00</th>\n",
       "      <td>108.56</td>\n",
       "      <td>108.57</td>\n",
       "      <td>108.4400</td>\n",
       "      <td>108.48</td>\n",
       "      <td>4609533</td>\n",
       "      <td>9832</td>\n",
       "      <td>108.483950</td>\n",
       "      <td>0.001292</td>\n",
       "      <td>289.24</td>\n",
       "      <td>293.31</td>\n",
       "      <td>288.9000</td>\n",
       "      <td>292.82</td>\n",
       "      <td>107250892</td>\n",
       "      <td>390959</td>\n",
       "      <td>291.952803</td>\n",
       "      <td>-0.004115</td>\n",
       "    </tr>\n",
       "  </tbody>\n",
       "</table>\n",
       "</div>"
      ],
      "text/plain": [
       "                              AGG                                     \\\n",
       "                             open    high       low   close   volume   \n",
       "timestamp                                                              \n",
       "2019-04-30 04:00:00+00:00  108.56  108.68  108.5135  108.59  7491505   \n",
       "2019-05-01 04:00:00+00:00  108.47  108.76  108.3200  108.40  6387911   \n",
       "2019-05-02 04:00:00+00:00  108.30  108.33  108.1000  108.16  3379510   \n",
       "2019-05-03 04:00:00+00:00  108.32  108.42  108.2750  108.34  2326299   \n",
       "2019-05-06 04:00:00+00:00  108.56  108.57  108.4400  108.48  4609533   \n",
       "\n",
       "                                                                   SPY  \\\n",
       "                          trade_count        vwap daily_return    open   \n",
       "timestamp                                                                \n",
       "2019-04-30 04:00:00+00:00       17892  108.620462          NaN  293.52   \n",
       "2019-05-01 04:00:00+00:00       23490  108.455634    -0.001750  294.76   \n",
       "2019-05-02 04:00:00+00:00       10083  108.172602    -0.002214  291.68   \n",
       "2019-05-03 04:00:00+00:00       11699  108.329456     0.001664  292.80   \n",
       "2019-05-06 04:00:00+00:00        9832  108.483950     0.001292  289.24   \n",
       "\n",
       "                                                                            \\\n",
       "                             high       low   close     volume trade_count   \n",
       "timestamp                                                                    \n",
       "2019-04-30 04:00:00+00:00  294.34  291.9200  294.02   81411933      254912   \n",
       "2019-05-01 04:00:00+00:00  294.95  291.8000  291.81   71921870      337374   \n",
       "2019-05-02 04:00:00+00:00  292.70  289.5200  291.18   65058183      342564   \n",
       "2019-05-03 04:00:00+00:00  294.34  291.2998  294.03   56579556      249557   \n",
       "2019-05-06 04:00:00+00:00  293.31  288.9000  292.82  107250892      390959   \n",
       "\n",
       "                                                    \n",
       "                                 vwap daily_return  \n",
       "timestamp                                           \n",
       "2019-04-30 04:00:00+00:00  293.551590          NaN  \n",
       "2019-05-01 04:00:00+00:00  293.457138    -0.007516  \n",
       "2019-05-02 04:00:00+00:00  291.101680    -0.002159  \n",
       "2019-05-03 04:00:00+00:00  293.438891     0.009788  \n",
       "2019-05-06 04:00:00+00:00  291.952803    -0.004115  "
      ]
     },
     "execution_count": 294,
     "metadata": {},
     "output_type": "execute_result"
    }
   ],
   "source": [
    "# Configure a Monte Carlo simulation to forecast 10 years cumulative returns\n",
    "# The weights should be split 20% to AGG and 80% to SPY.\n",
    "# Run 500 samples.\n",
    "# YOUR CODE HERE\n",
    "\n",
    "MC_10year = MCSimulation(three_yr_df,weights=[0.2,0.8],num_simulation=500,num_trading_days=252*10)\n",
    "\n",
    "# Review the simulation input data\n",
    "# YOUR CODE HERE\n",
    "MC_10year.portfolio_data.head()"
   ]
  },
  {
   "cell_type": "code",
   "execution_count": 295,
   "metadata": {},
   "outputs": [
    {
     "name": "stdout",
     "output_type": "stream",
     "text": [
      "Running Monte Carlo simulation number 0.\n",
      "Running Monte Carlo simulation number 10.\n",
      "Running Monte Carlo simulation number 20.\n",
      "Running Monte Carlo simulation number 30.\n",
      "Running Monte Carlo simulation number 40.\n",
      "Running Monte Carlo simulation number 50.\n",
      "Running Monte Carlo simulation number 60.\n",
      "Running Monte Carlo simulation number 70.\n",
      "Running Monte Carlo simulation number 80.\n",
      "Running Monte Carlo simulation number 90.\n",
      "Running Monte Carlo simulation number 100.\n"
     ]
    },
    {
     "name": "stderr",
     "output_type": "stream",
     "text": [
      "C:\\Users\\johnm\\Desktop\\BootCamp\\module_5_activities\\Challenge\\Starter_Code\\Starter_Code\\MCForecastTools.py:117: PerformanceWarning: DataFrame is highly fragmented.  This is usually the result of calling `frame.insert` many times, which has poor performance.  Consider joining all columns at once using pd.concat(axis=1) instead.  To get a de-fragmented frame, use `newframe = frame.copy()`\n",
      "  portfolio_cumulative_returns[n] = (1 + sim_df.fillna(0)).cumprod()\n"
     ]
    },
    {
     "name": "stdout",
     "output_type": "stream",
     "text": [
      "Running Monte Carlo simulation number 110.\n",
      "Running Monte Carlo simulation number 120.\n",
      "Running Monte Carlo simulation number 130.\n",
      "Running Monte Carlo simulation number 140.\n",
      "Running Monte Carlo simulation number 150.\n",
      "Running Monte Carlo simulation number 160.\n",
      "Running Monte Carlo simulation number 170.\n",
      "Running Monte Carlo simulation number 180.\n",
      "Running Monte Carlo simulation number 190.\n",
      "Running Monte Carlo simulation number 200.\n",
      "Running Monte Carlo simulation number 210.\n",
      "Running Monte Carlo simulation number 220.\n",
      "Running Monte Carlo simulation number 230.\n",
      "Running Monte Carlo simulation number 240.\n",
      "Running Monte Carlo simulation number 250.\n",
      "Running Monte Carlo simulation number 260.\n",
      "Running Monte Carlo simulation number 270.\n",
      "Running Monte Carlo simulation number 280.\n",
      "Running Monte Carlo simulation number 290.\n",
      "Running Monte Carlo simulation number 300.\n",
      "Running Monte Carlo simulation number 310.\n",
      "Running Monte Carlo simulation number 320.\n",
      "Running Monte Carlo simulation number 330.\n",
      "Running Monte Carlo simulation number 340.\n",
      "Running Monte Carlo simulation number 350.\n",
      "Running Monte Carlo simulation number 360.\n",
      "Running Monte Carlo simulation number 370.\n",
      "Running Monte Carlo simulation number 380.\n",
      "Running Monte Carlo simulation number 390.\n",
      "Running Monte Carlo simulation number 400.\n",
      "Running Monte Carlo simulation number 410.\n",
      "Running Monte Carlo simulation number 420.\n",
      "Running Monte Carlo simulation number 430.\n",
      "Running Monte Carlo simulation number 440.\n",
      "Running Monte Carlo simulation number 450.\n",
      "Running Monte Carlo simulation number 460.\n",
      "Running Monte Carlo simulation number 470.\n",
      "Running Monte Carlo simulation number 480.\n",
      "Running Monte Carlo simulation number 490.\n"
     ]
    },
    {
     "data": {
      "text/html": [
       "<div>\n",
       "<style scoped>\n",
       "    .dataframe tbody tr th:only-of-type {\n",
       "        vertical-align: middle;\n",
       "    }\n",
       "\n",
       "    .dataframe tbody tr th {\n",
       "        vertical-align: top;\n",
       "    }\n",
       "\n",
       "    .dataframe thead th {\n",
       "        text-align: right;\n",
       "    }\n",
       "</style>\n",
       "<table border=\"1\" class=\"dataframe\">\n",
       "  <thead>\n",
       "    <tr style=\"text-align: right;\">\n",
       "      <th></th>\n",
       "      <th>0</th>\n",
       "      <th>1</th>\n",
       "      <th>2</th>\n",
       "      <th>3</th>\n",
       "      <th>4</th>\n",
       "      <th>5</th>\n",
       "      <th>6</th>\n",
       "      <th>7</th>\n",
       "      <th>8</th>\n",
       "      <th>9</th>\n",
       "      <th>...</th>\n",
       "      <th>490</th>\n",
       "      <th>491</th>\n",
       "      <th>492</th>\n",
       "      <th>493</th>\n",
       "      <th>494</th>\n",
       "      <th>495</th>\n",
       "      <th>496</th>\n",
       "      <th>497</th>\n",
       "      <th>498</th>\n",
       "      <th>499</th>\n",
       "    </tr>\n",
       "  </thead>\n",
       "  <tbody>\n",
       "    <tr>\n",
       "      <th>0</th>\n",
       "      <td>1.000000</td>\n",
       "      <td>1.000000</td>\n",
       "      <td>1.000000</td>\n",
       "      <td>1.000000</td>\n",
       "      <td>1.000000</td>\n",
       "      <td>1.000000</td>\n",
       "      <td>1.000000</td>\n",
       "      <td>1.000000</td>\n",
       "      <td>1.000000</td>\n",
       "      <td>1.000000</td>\n",
       "      <td>...</td>\n",
       "      <td>1.000000</td>\n",
       "      <td>1.000000</td>\n",
       "      <td>1.000000</td>\n",
       "      <td>1.000000</td>\n",
       "      <td>1.000000</td>\n",
       "      <td>1.000000</td>\n",
       "      <td>1.000000</td>\n",
       "      <td>1.000000</td>\n",
       "      <td>1.000000</td>\n",
       "      <td>1.000000</td>\n",
       "    </tr>\n",
       "    <tr>\n",
       "      <th>1</th>\n",
       "      <td>0.994702</td>\n",
       "      <td>1.016119</td>\n",
       "      <td>0.980271</td>\n",
       "      <td>0.995019</td>\n",
       "      <td>1.010355</td>\n",
       "      <td>0.997086</td>\n",
       "      <td>1.000241</td>\n",
       "      <td>1.004478</td>\n",
       "      <td>1.017696</td>\n",
       "      <td>0.976375</td>\n",
       "      <td>...</td>\n",
       "      <td>1.011575</td>\n",
       "      <td>1.005049</td>\n",
       "      <td>0.975605</td>\n",
       "      <td>1.019368</td>\n",
       "      <td>0.987681</td>\n",
       "      <td>0.989290</td>\n",
       "      <td>1.008061</td>\n",
       "      <td>1.004461</td>\n",
       "      <td>0.984488</td>\n",
       "      <td>1.003914</td>\n",
       "    </tr>\n",
       "    <tr>\n",
       "      <th>2</th>\n",
       "      <td>1.003639</td>\n",
       "      <td>1.002468</td>\n",
       "      <td>0.980447</td>\n",
       "      <td>1.000142</td>\n",
       "      <td>1.014910</td>\n",
       "      <td>0.992934</td>\n",
       "      <td>1.005471</td>\n",
       "      <td>1.016639</td>\n",
       "      <td>1.023956</td>\n",
       "      <td>0.961670</td>\n",
       "      <td>...</td>\n",
       "      <td>1.017120</td>\n",
       "      <td>1.000635</td>\n",
       "      <td>0.983453</td>\n",
       "      <td>0.987740</td>\n",
       "      <td>0.980074</td>\n",
       "      <td>0.985145</td>\n",
       "      <td>1.015957</td>\n",
       "      <td>1.016368</td>\n",
       "      <td>0.995825</td>\n",
       "      <td>1.006909</td>\n",
       "    </tr>\n",
       "    <tr>\n",
       "      <th>3</th>\n",
       "      <td>0.999237</td>\n",
       "      <td>1.008075</td>\n",
       "      <td>0.977641</td>\n",
       "      <td>1.007937</td>\n",
       "      <td>1.015227</td>\n",
       "      <td>0.995763</td>\n",
       "      <td>1.005911</td>\n",
       "      <td>1.004635</td>\n",
       "      <td>1.023006</td>\n",
       "      <td>0.961216</td>\n",
       "      <td>...</td>\n",
       "      <td>1.006181</td>\n",
       "      <td>0.996934</td>\n",
       "      <td>0.967030</td>\n",
       "      <td>0.981815</td>\n",
       "      <td>0.998574</td>\n",
       "      <td>0.985815</td>\n",
       "      <td>1.016050</td>\n",
       "      <td>1.007570</td>\n",
       "      <td>1.007134</td>\n",
       "      <td>0.998597</td>\n",
       "    </tr>\n",
       "    <tr>\n",
       "      <th>4</th>\n",
       "      <td>1.011437</td>\n",
       "      <td>1.015282</td>\n",
       "      <td>0.967041</td>\n",
       "      <td>1.030083</td>\n",
       "      <td>1.016992</td>\n",
       "      <td>0.981908</td>\n",
       "      <td>1.005172</td>\n",
       "      <td>1.013530</td>\n",
       "      <td>1.033495</td>\n",
       "      <td>0.955234</td>\n",
       "      <td>...</td>\n",
       "      <td>0.979774</td>\n",
       "      <td>0.996365</td>\n",
       "      <td>0.951682</td>\n",
       "      <td>0.976278</td>\n",
       "      <td>1.000319</td>\n",
       "      <td>0.961320</td>\n",
       "      <td>1.022397</td>\n",
       "      <td>0.993891</td>\n",
       "      <td>1.001754</td>\n",
       "      <td>1.005233</td>\n",
       "    </tr>\n",
       "    <tr>\n",
       "      <th>...</th>\n",
       "      <td>...</td>\n",
       "      <td>...</td>\n",
       "      <td>...</td>\n",
       "      <td>...</td>\n",
       "      <td>...</td>\n",
       "      <td>...</td>\n",
       "      <td>...</td>\n",
       "      <td>...</td>\n",
       "      <td>...</td>\n",
       "      <td>...</td>\n",
       "      <td>...</td>\n",
       "      <td>...</td>\n",
       "      <td>...</td>\n",
       "      <td>...</td>\n",
       "      <td>...</td>\n",
       "      <td>...</td>\n",
       "      <td>...</td>\n",
       "      <td>...</td>\n",
       "      <td>...</td>\n",
       "      <td>...</td>\n",
       "      <td>...</td>\n",
       "    </tr>\n",
       "    <tr>\n",
       "      <th>2516</th>\n",
       "      <td>3.083693</td>\n",
       "      <td>1.573518</td>\n",
       "      <td>4.025367</td>\n",
       "      <td>2.828686</td>\n",
       "      <td>4.010131</td>\n",
       "      <td>3.520649</td>\n",
       "      <td>2.457572</td>\n",
       "      <td>3.208800</td>\n",
       "      <td>1.294536</td>\n",
       "      <td>1.926205</td>\n",
       "      <td>...</td>\n",
       "      <td>4.945119</td>\n",
       "      <td>6.044289</td>\n",
       "      <td>1.662189</td>\n",
       "      <td>2.134219</td>\n",
       "      <td>4.114831</td>\n",
       "      <td>1.389437</td>\n",
       "      <td>1.426442</td>\n",
       "      <td>1.132896</td>\n",
       "      <td>3.188938</td>\n",
       "      <td>4.395206</td>\n",
       "    </tr>\n",
       "    <tr>\n",
       "      <th>2517</th>\n",
       "      <td>3.065278</td>\n",
       "      <td>1.559648</td>\n",
       "      <td>4.078045</td>\n",
       "      <td>2.817211</td>\n",
       "      <td>4.047997</td>\n",
       "      <td>3.541624</td>\n",
       "      <td>2.447253</td>\n",
       "      <td>3.143922</td>\n",
       "      <td>1.291405</td>\n",
       "      <td>1.932463</td>\n",
       "      <td>...</td>\n",
       "      <td>4.964744</td>\n",
       "      <td>6.008115</td>\n",
       "      <td>1.647939</td>\n",
       "      <td>2.083599</td>\n",
       "      <td>4.145275</td>\n",
       "      <td>1.378658</td>\n",
       "      <td>1.408889</td>\n",
       "      <td>1.124577</td>\n",
       "      <td>3.213117</td>\n",
       "      <td>4.343696</td>\n",
       "    </tr>\n",
       "    <tr>\n",
       "      <th>2518</th>\n",
       "      <td>3.029886</td>\n",
       "      <td>1.566989</td>\n",
       "      <td>4.138663</td>\n",
       "      <td>2.859679</td>\n",
       "      <td>4.029758</td>\n",
       "      <td>3.533516</td>\n",
       "      <td>2.422823</td>\n",
       "      <td>3.142536</td>\n",
       "      <td>1.283129</td>\n",
       "      <td>1.921588</td>\n",
       "      <td>...</td>\n",
       "      <td>4.998103</td>\n",
       "      <td>5.940241</td>\n",
       "      <td>1.657202</td>\n",
       "      <td>2.109464</td>\n",
       "      <td>4.275601</td>\n",
       "      <td>1.382974</td>\n",
       "      <td>1.419243</td>\n",
       "      <td>1.113056</td>\n",
       "      <td>3.177164</td>\n",
       "      <td>4.243324</td>\n",
       "    </tr>\n",
       "    <tr>\n",
       "      <th>2519</th>\n",
       "      <td>3.061988</td>\n",
       "      <td>1.571399</td>\n",
       "      <td>4.161698</td>\n",
       "      <td>2.856400</td>\n",
       "      <td>4.019786</td>\n",
       "      <td>3.621667</td>\n",
       "      <td>2.368671</td>\n",
       "      <td>3.208234</td>\n",
       "      <td>1.281429</td>\n",
       "      <td>1.907718</td>\n",
       "      <td>...</td>\n",
       "      <td>4.944813</td>\n",
       "      <td>5.997561</td>\n",
       "      <td>1.637521</td>\n",
       "      <td>2.109612</td>\n",
       "      <td>4.290979</td>\n",
       "      <td>1.391385</td>\n",
       "      <td>1.414104</td>\n",
       "      <td>1.103779</td>\n",
       "      <td>3.125333</td>\n",
       "      <td>4.203250</td>\n",
       "    </tr>\n",
       "    <tr>\n",
       "      <th>2520</th>\n",
       "      <td>3.052750</td>\n",
       "      <td>1.569696</td>\n",
       "      <td>4.110132</td>\n",
       "      <td>2.800699</td>\n",
       "      <td>3.993209</td>\n",
       "      <td>3.673768</td>\n",
       "      <td>2.363675</td>\n",
       "      <td>3.236724</td>\n",
       "      <td>1.297577</td>\n",
       "      <td>1.925529</td>\n",
       "      <td>...</td>\n",
       "      <td>4.909345</td>\n",
       "      <td>6.045037</td>\n",
       "      <td>1.643226</td>\n",
       "      <td>2.153099</td>\n",
       "      <td>4.314924</td>\n",
       "      <td>1.412850</td>\n",
       "      <td>1.414448</td>\n",
       "      <td>1.088763</td>\n",
       "      <td>3.104432</td>\n",
       "      <td>4.209625</td>\n",
       "    </tr>\n",
       "  </tbody>\n",
       "</table>\n",
       "<p>2521 rows × 500 columns</p>\n",
       "</div>"
      ],
      "text/plain": [
       "           0         1         2         3         4         5         6    \\\n",
       "0     1.000000  1.000000  1.000000  1.000000  1.000000  1.000000  1.000000   \n",
       "1     0.994702  1.016119  0.980271  0.995019  1.010355  0.997086  1.000241   \n",
       "2     1.003639  1.002468  0.980447  1.000142  1.014910  0.992934  1.005471   \n",
       "3     0.999237  1.008075  0.977641  1.007937  1.015227  0.995763  1.005911   \n",
       "4     1.011437  1.015282  0.967041  1.030083  1.016992  0.981908  1.005172   \n",
       "...        ...       ...       ...       ...       ...       ...       ...   \n",
       "2516  3.083693  1.573518  4.025367  2.828686  4.010131  3.520649  2.457572   \n",
       "2517  3.065278  1.559648  4.078045  2.817211  4.047997  3.541624  2.447253   \n",
       "2518  3.029886  1.566989  4.138663  2.859679  4.029758  3.533516  2.422823   \n",
       "2519  3.061988  1.571399  4.161698  2.856400  4.019786  3.621667  2.368671   \n",
       "2520  3.052750  1.569696  4.110132  2.800699  3.993209  3.673768  2.363675   \n",
       "\n",
       "           7         8         9    ...       490       491       492  \\\n",
       "0     1.000000  1.000000  1.000000  ...  1.000000  1.000000  1.000000   \n",
       "1     1.004478  1.017696  0.976375  ...  1.011575  1.005049  0.975605   \n",
       "2     1.016639  1.023956  0.961670  ...  1.017120  1.000635  0.983453   \n",
       "3     1.004635  1.023006  0.961216  ...  1.006181  0.996934  0.967030   \n",
       "4     1.013530  1.033495  0.955234  ...  0.979774  0.996365  0.951682   \n",
       "...        ...       ...       ...  ...       ...       ...       ...   \n",
       "2516  3.208800  1.294536  1.926205  ...  4.945119  6.044289  1.662189   \n",
       "2517  3.143922  1.291405  1.932463  ...  4.964744  6.008115  1.647939   \n",
       "2518  3.142536  1.283129  1.921588  ...  4.998103  5.940241  1.657202   \n",
       "2519  3.208234  1.281429  1.907718  ...  4.944813  5.997561  1.637521   \n",
       "2520  3.236724  1.297577  1.925529  ...  4.909345  6.045037  1.643226   \n",
       "\n",
       "           493       494       495       496       497       498       499  \n",
       "0     1.000000  1.000000  1.000000  1.000000  1.000000  1.000000  1.000000  \n",
       "1     1.019368  0.987681  0.989290  1.008061  1.004461  0.984488  1.003914  \n",
       "2     0.987740  0.980074  0.985145  1.015957  1.016368  0.995825  1.006909  \n",
       "3     0.981815  0.998574  0.985815  1.016050  1.007570  1.007134  0.998597  \n",
       "4     0.976278  1.000319  0.961320  1.022397  0.993891  1.001754  1.005233  \n",
       "...        ...       ...       ...       ...       ...       ...       ...  \n",
       "2516  2.134219  4.114831  1.389437  1.426442  1.132896  3.188938  4.395206  \n",
       "2517  2.083599  4.145275  1.378658  1.408889  1.124577  3.213117  4.343696  \n",
       "2518  2.109464  4.275601  1.382974  1.419243  1.113056  3.177164  4.243324  \n",
       "2519  2.109612  4.290979  1.391385  1.414104  1.103779  3.125333  4.203250  \n",
       "2520  2.153099  4.314924  1.412850  1.414448  1.088763  3.104432  4.209625  \n",
       "\n",
       "[2521 rows x 500 columns]"
      ]
     },
     "execution_count": 295,
     "metadata": {},
     "output_type": "execute_result"
    }
   ],
   "source": [
    "# Run the Monte Carlo simulation to forecast 10 years cumulative returns\n",
    "# YOUR CODE HERE\n",
    "MC_10year.calc_cumulative_return()"
   ]
  },
  {
   "cell_type": "code",
   "execution_count": 296,
   "metadata": {},
   "outputs": [
    {
     "data": {
      "image/png": "[encoded data removed]",
      "text/plain": [
       "<Figure size 432x288 with 1 Axes>"
      ]
     },
     "metadata": {
      "needs_background": "light"
     },
     "output_type": "display_data"
    }
   ],
   "source": [
    "# Visualize the 10-year Monte Carlo simulation by creating an\n",
    "# overlay line plot\n",
    "# YOUR CODE HERE\n",
    "MC_ten_year_plot = MC_10year.plot_simulation()"
   ]
  },
  {
   "cell_type": "code",
   "execution_count": 297,
   "metadata": {},
   "outputs": [
    {
     "data": {
      "image/png": "[encoded data removed]",
      "text/plain": [
       "<Figure size 432x288 with 1 Axes>"
      ]
     },
     "metadata": {
      "needs_background": "light"
     },
     "output_type": "display_data"
    }
   ],
   "source": [
    "# Visualize the probability distribution of the 10-year Monte Carlo simulation \n",
    "# by plotting a histogram\n",
    "# YOUR CODE HERE\n",
    "\n",
    "MC_dist_plot_10yr = MC_10year.plot_distribution()"
   ]
  },
  {
   "cell_type": "code",
   "execution_count": 298,
   "metadata": {},
   "outputs": [
    {
     "name": "stdout",
     "output_type": "stream",
     "text": [
      "count           500.000000\n",
      "mean              2.901438\n",
      "std               1.778136\n",
      "min               0.654248\n",
      "25%               1.645161\n",
      "50%               2.488909\n",
      "75%               3.673198\n",
      "max              16.219602\n",
      "95% CI Lower      0.877710\n",
      "95% CI Upper      7.281817\n",
      "Name: 2520, dtype: float64\n"
     ]
    }
   ],
   "source": [
    "# Generate summary statistics from the 10-year Monte Carlo simulation results\n",
    "# Save the results as a variable\n",
    "# YOUR CODE HERE\n",
    "\n",
    "MC_summary_10yr=MC_10year.summarize_cumulative_return()\n",
    "\n",
    "\n",
    "# Review the 10-year Monte Carlo summary statistics\n",
    "# YOUR CODE HERE\n",
    "\n",
    "print(MC_summary_10yr)"
   ]
  },
  {
   "cell_type": "markdown",
   "metadata": {},
   "source": [
    "### Answer the following questions:"
   ]
  },
  {
   "cell_type": "markdown",
   "metadata": {},
   "source": [
    "#### Question: Using the current value of only the stock and bond portion of the member's portfolio and the summary statistics that you generated from the new Monte Carlo simulation, what are the lower and upper bounds for the expected value of the portfolio (with the new weights) with a 95% confidence interval?"
   ]
  },
  {
   "cell_type": "code",
   "execution_count": 299,
   "metadata": {},
   "outputs": [
    {
     "data": {
      "text/plain": [
       "31889.7"
      ]
     },
     "execution_count": 299,
     "metadata": {},
     "output_type": "execute_result"
    }
   ],
   "source": [
    "# Print the current balance of the stock and bond portion of the members portfolio\n",
    "# YOUR CODE HERE\n",
    "\n",
    "total_stocks_bonds"
   ]
  },
  {
   "cell_type": "code",
   "execution_count": 300,
   "metadata": {},
   "outputs": [
    {
     "name": "stdout",
     "output_type": "stream",
     "text": [
      "The lower confidence interval portfolio outcome is $ 27989.92\n",
      "The upper confidence interval portfolio outcome is $ 232214.94\n"
     ]
    }
   ],
   "source": [
    "# Use the lower and upper `95%` confidence intervals to calculate the range of the possible outcomes for the current stock/bond portfolio\n",
    "ci_lower_ten_cumulative_return = MC_summary_10yr[8]*total_stocks_bonds\n",
    "ci_upper_ten_cumulative_return = MC_summary_10yr[9]*total_stocks_bonds\n",
    "\n",
    "# Print the result of your calculations\n",
    "# YOUR CODE HERE\n",
    "print(f'The lower confidence interval portfolio outcome is ${ci_lower_ten_cumulative_return: .2f}')\n",
    "print(f'The upper confidence interval portfolio outcome is ${ci_upper_ten_cumulative_return: .2f}')"
   ]
  },
  {
   "cell_type": "markdown",
   "metadata": {},
   "source": [
    "#### Question: Will weighting the portfolio more heavily to stocks allow the credit union members to retire after only 10 years?"
   ]
  },
  {
   "cell_type": "raw",
   "metadata": {},
   "source": [
    "**Answer** # Unlikely. Even if the portfolio returns end up being closer to the upper confidence interval, there isn't much to go around for the investor. Unless they live on less than 15k per year, it is doubtful this will suffice. Our example customer certainly doesn't live on 15k per year since we assume they live on 12k per month. That said, the heavier stock weight does increase the likelihood of the possibility to retire earlier in general since the average return is expected to be higher due to the additional volatility. Furthermore, we cannot predict what the market will do in the next 10 years and if this person happened to invest right before a 2 year down market, they will be in a very poor position at year 10."
   ]
  },
  {
   "cell_type": "code",
   "execution_count": null,
   "metadata": {},
   "outputs": [],
   "source": []
  }
 ],
 "metadata": {
  "kernelspec": {
   "display_name": "Python 3 (ipykernel)",
   "language": "python",
   "name": "python3"
  },
  "language_info": {
   "codemirror_mode": {
    "name": "ipython",
    "version": 3
   },
   "file_extension": ".py",
   "mimetype": "text/x-python",
   "name": "python",
   "nbconvert_exporter": "python",
   "pygments_lexer": "ipython3",
   "version": "3.7.13"
  }
 },
 "nbformat": 4,
 "nbformat_minor": 4
}
